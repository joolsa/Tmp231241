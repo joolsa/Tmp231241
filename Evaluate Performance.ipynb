{
 "cells": [
  {
   "cell_type": "code",
   "execution_count": 1,
   "metadata": {
    "ExecuteTime": {
     "end_time": "2020-05-29T19:50:24.819456Z",
     "start_time": "2020-05-29T19:50:24.201491Z"
    }
   },
   "outputs": [],
   "source": [
    "import pandas as pd\n",
    "import numpy as np\n",
    "import locale\n",
    "locale.setlocale(locale.LC_ALL, 'en_US')\n",
    "from collections import Counter\n",
    "import matplotlib.pyplot as plt"
   ]
  },
  {
   "cell_type": "code",
   "execution_count": 2,
   "metadata": {
    "ExecuteTime": {
     "end_time": "2020-05-29T19:50:30.280061Z",
     "start_time": "2020-05-29T19:50:24.821457Z"
    }
   },
   "outputs": [],
   "source": [
    "df = pd.read_csv('Data.csv')\n",
    "\n",
    "#Get total views\n",
    "videoKeys = list(df.columns)\n",
    "videoKeys.remove(\"Unnamed: 0\")\n",
    "df['sumVideoViews'] = df[videoKeys].sum(axis=1)"
   ]
  },
  {
   "cell_type": "code",
   "execution_count": 3,
   "metadata": {
    "ExecuteTime": {
     "end_time": "2020-05-29T19:50:30.631097Z",
     "start_time": "2020-05-29T19:50:30.282061Z"
    }
   },
   "outputs": [],
   "source": [
    "\n",
    "#Extract Country,Age and Gender\n",
    "df['country'] = df['Unnamed: 0'].str.split(\"_\",expand=True)[0]\n",
    "df['age'] = df['Unnamed: 0'].str.split(\"_\",expand=True)[1]\n",
    "df['gender'] = df['Unnamed: 0'].str.split(\"_\",expand=True)[2]\n",
    "\n",
    "df = df.drop('Unnamed: 0',axis=1)"
   ]
  },
  {
   "cell_type": "code",
   "execution_count": 4,
   "metadata": {
    "ExecuteTime": {
     "end_time": "2020-05-29T19:50:30.769055Z",
     "start_time": "2020-05-29T19:50:30.632081Z"
    }
   },
   "outputs": [
    {
     "name": "stdout",
     "output_type": "stream",
     "text": [
      "Total Views 1581079336\n"
     ]
    }
   ],
   "source": [
    "print(\"Total Views\",df[videoKeys].sum(axis=0).sum())"
   ]
  },
  {
   "cell_type": "code",
   "execution_count": 5,
   "metadata": {
    "ExecuteTime": {
     "end_time": "2020-05-29T19:50:30.776059Z",
     "start_time": "2020-05-29T19:50:30.770054Z"
    }
   },
   "outputs": [],
   "source": [
    "df.loc[df.age==\"65-\",'age'] = \"65+\" #Minor Fix"
   ]
  },
  {
   "cell_type": "code",
   "execution_count": 6,
   "metadata": {
    "ExecuteTime": {
     "end_time": "2020-05-29T19:50:30.787059Z",
     "start_time": "2020-05-29T19:50:30.777058Z"
    }
   },
   "outputs": [
    {
     "data": {
      "text/plain": [
       "age\n",
       "25-34    379308837\n",
       "35-44    266945329\n",
       "18-24    251841056\n",
       "45-54    225989220\n",
       "55-64    177114047\n",
       "65+      156130826\n",
       "13-17    123750021\n",
       "Name: sumVideoViews, dtype: int64"
      ]
     },
     "execution_count": 6,
     "metadata": {},
     "output_type": "execute_result"
    }
   ],
   "source": [
    "df.groupby(\"age\")[\"sumVideoViews\"].sum().sort_values(ascending=False)"
   ]
  },
  {
   "cell_type": "code",
   "execution_count": 7,
   "metadata": {
    "ExecuteTime": {
     "end_time": "2020-05-29T19:50:30.798082Z",
     "start_time": "2020-05-29T19:50:30.791093Z"
    }
   },
   "outputs": [
    {
     "data": {
      "text/plain": [
       "country\n",
       "US    114584035\n",
       "IN     56850635\n",
       "GB     38824159\n",
       "CA     32873633\n",
       "MY     21705597\n",
       "PK     20176644\n",
       "AU     19427786\n",
       "PH     18552997\n",
       "DE     16990377\n",
       "ZA     16731074\n",
       "Name: sumVideoViews, dtype: int64"
      ]
     },
     "execution_count": 7,
     "metadata": {},
     "output_type": "execute_result"
    }
   ],
   "source": [
    "df.groupby(\"country\")[\"sumVideoViews\"].sum().sort_values(ascending=False)[:10]"
   ]
  },
  {
   "cell_type": "code",
   "execution_count": 8,
   "metadata": {
    "ExecuteTime": {
     "end_time": "2020-05-29T19:50:30.805095Z",
     "start_time": "2020-05-29T19:50:30.800056Z"
    }
   },
   "outputs": [],
   "source": [
    "dralgos = [\"Clustering\",\"PCA\",\"NMF\",\"LDA\",\"SE\",\"UMAP\"]"
   ]
  },
  {
   "cell_type": "code",
   "execution_count": 9,
   "metadata": {
    "ExecuteTime": {
     "end_time": "2020-05-29T19:50:30.817059Z",
     "start_time": "2020-05-29T19:50:30.806056Z"
    }
   },
   "outputs": [],
   "source": [
    "def fixAge(temp): #Change Age Format\n",
    "    for i in range(temp.iloc[1,1:].shape[0]):\n",
    "        if int(temp.iloc[1,1+i]) <= 17:\n",
    "            temp.iloc[1,1+i] = \"13-17\"\n",
    "        elif int(temp.iloc[1,1+i]) > 17 and int(temp.iloc[1,1+i]) <= 24:\n",
    "            temp.iloc[1,1+i] = \"18-24\"\n",
    "        elif int(temp.iloc[1,1+i]) > 24 and int(temp.iloc[1,1+i]) <= 34:\n",
    "            temp.iloc[1,1+i] = \"25-34\"\n",
    "        elif int(temp.iloc[1,1+i]) > 34 and int(temp.iloc[1,1+i]) <= 44:\n",
    "            temp.iloc[1,1+i] = \"35-44\"\n",
    "        elif int(temp.iloc[1,1+i]) > 44 and int(temp.iloc[1,1+i]) <= 54:\n",
    "            temp.iloc[1,1+i] = \"45-54\"\n",
    "        elif int(temp.iloc[1,1+i]) > 54 and int(temp.iloc[1,1+i]) <= 64:\n",
    "            temp.iloc[1,1+i] = \"55-64\"\n",
    "        elif int(temp.iloc[1,1+i]) > 64:\n",
    "            temp.iloc[1,1+i] = \"65+\"\n",
    "\n",
    "    return temp"
   ]
  },
  {
   "cell_type": "markdown",
   "metadata": {},
   "source": [
    "# Statistical Parity"
   ]
  },
  {
   "cell_type": "markdown",
   "metadata": {},
   "source": [
    "Calculating Statistical Parity of all age, gender and top 6 countries"
   ]
  },
  {
   "cell_type": "code",
   "execution_count": 10,
   "metadata": {
    "ExecuteTime": {
     "end_time": "2020-05-29T19:50:32.469177Z",
     "start_time": "2020-05-29T19:50:30.818057Z"
    }
   },
   "outputs": [],
   "source": [
    "totalViews = df[\"sumVideoViews\"].sum()\n",
    "\n",
    "outputDF = pd.DataFrame(columns=[\"Dimensionality Reduction Algorithm\",\"Number of Personas\",\"GroupName\",\"Subject\",\"Percentage in Original Data\",\"Unique Values in Original Data\",\"Count in Persona Set\",\"Percentage in Persona set\",\"Total Unique Values in Persona Set\",\"Statistical Parity\"])\n",
    "\n",
    "\n",
    "dfs = []\n",
    "for dralgo in dralgos:\n",
    "    for i in range(3):\n",
    "        temp = pd.read_excel(\"personas/\"+dralgo+\".xlsx\",sheet_name=2-i)\n",
    "        temp = fixAge(temp)\n",
    "        dfs.append([temp,temp.shape[1]-1,dralgo])\n",
    "\n",
    "\n",
    "totalMale = df.loc[df[\"gender\"]==\"male\"].groupby(\"gender\")[\"sumVideoViews\"].sum().values[0]\n",
    "\n",
    "\n",
    "for cdf in dfs:\n",
    "    cTotal = (cdf[0].iloc[2,1:].values==\"male\").sum()\n",
    "    outputDF = outputDF.append(pd.DataFrame([[cdf[2],cdf[1],\"Gender\",\"Male\",np.round(totalMale/totalViews*100,3),df[\"gender\"].nunique(),cTotal,np.round(cTotal/cdf[1]*100,3),cdf[0].iloc[2,1:].nunique(),np.round(cTotal/cdf[1]-totalMale/totalViews,3)]], columns=outputDF.columns))\n",
    "\n",
    "totalCountry = df.loc[df[\"country\"]==\"US\"].groupby(\"country\")[\"sumVideoViews\"].sum().values[0]\n",
    "for cdf in dfs:\n",
    "    cTotal = (cdf[0].iloc[3,1:].values==\"United States\").sum()\n",
    "    outputDF = outputDF.append(pd.DataFrame([[cdf[2],cdf[1],\"Country\",\"USA\",np.round(totalCountry/totalViews*100,3),df[\"country\"].nunique(),cTotal,np.round(cTotal/cdf[1]*100,3),cdf[0].iloc[3,1:].nunique(),np.round(cTotal/cdf[1]-totalCountry/totalViews,3)]], columns=outputDF.columns))\n",
    "\n",
    "totalCountry = df.loc[df[\"country\"]==\"IN\"].groupby(\"country\")[\"sumVideoViews\"].sum().values[0]\n",
    "for cdf in dfs:\n",
    "    cTotal = (cdf[0].iloc[3,1:].values==\"India\").sum()\n",
    "    outputDF = outputDF.append(pd.DataFrame([[cdf[2],cdf[1],\"Country\",\"India\",np.round(totalCountry/totalViews*100,3),df[\"country\"].nunique(),cTotal,np.round(cTotal/cdf[1]*100,3),cdf[0].iloc[3,1:].nunique(),np.round(cTotal/cdf[1]-totalCountry/totalViews,3)]], columns=outputDF.columns))\n",
    "\n",
    "totalCountry = df.loc[df[\"country\"]==\"GB\"].groupby(\"country\")[\"sumVideoViews\"].sum().values[0]\n",
    "for cdf in dfs:\n",
    "    cTotal = (cdf[0].iloc[3,1:].values==\"United Kingdom\").sum()\n",
    "    outputDF = outputDF.append(pd.DataFrame([[cdf[2],cdf[1],\"Country\",\"United Kingdom\",np.round(totalCountry/totalViews*100,3),df[\"country\"].nunique(),cTotal,np.round(cTotal/cdf[1]*100,3),cdf[0].iloc[3,1:].nunique(),np.round(cTotal/cdf[1]-totalCountry/totalViews,3)]], columns=outputDF.columns))\n",
    "\n",
    "totalCountry = df.loc[df[\"country\"]==\"CA\"].groupby(\"country\")[\"sumVideoViews\"].sum().values[0]\n",
    "for cdf in dfs:\n",
    "    cTotal = (cdf[0].iloc[3,1:].values==\"Canada\").sum()\n",
    "    outputDF = outputDF.append(pd.DataFrame([[cdf[2],cdf[1],\"Country\",\"Canada\",np.round(totalCountry/totalViews*100,3),df[\"country\"].nunique(),cTotal,np.round(cTotal/cdf[1]*100,3),cdf[0].iloc[3,1:].nunique(),np.round(cTotal/cdf[1]-totalCountry/totalViews,3)]], columns=outputDF.columns))\n",
    "\n",
    "    \n",
    "totalCountry = df.loc[df[\"country\"]==\"MY\"].groupby(\"country\")[\"sumVideoViews\"].sum().values[0]\n",
    "for cdf in dfs:\n",
    "    cTotal = (cdf[0].iloc[3,1:].values==\"Malaysia\").sum()\n",
    "    outputDF = outputDF.append(pd.DataFrame([[cdf[2],cdf[1],\"Country\",\"Malaysia\",np.round(totalCountry/totalViews*100,3),df[\"country\"].nunique(),cTotal,np.round(cTotal/cdf[1]*100,3),cdf[0].iloc[3,1:].nunique(),np.round(cTotal/cdf[1]-totalCountry/totalViews,3)]], columns=outputDF.columns))\n",
    "\n",
    "totalCountry = df.loc[df[\"country\"]==\"AU\"].groupby(\"country\")[\"sumVideoViews\"].sum().values[0]\n",
    "for cdf in dfs:\n",
    "    cTotal = (cdf[0].iloc[3,1:].values==\"Australia\").sum()\n",
    "    outputDF = outputDF.append(pd.DataFrame([[cdf[2],cdf[1],\"Country\",\"Australia\",np.round(totalCountry/totalViews*100,3),df[\"country\"].nunique(),cTotal,np.round(cTotal/cdf[1]*100,3),cdf[0].iloc[3,1:].nunique(),np.round(cTotal/cdf[1]-totalCountry/totalViews,3)]], columns=outputDF.columns))\n",
    "\n",
    "    \n",
    "totalAge = df.loc[df[\"age\"]==\"25-34\"].groupby(\"age\")[\"sumVideoViews\"].sum().values[0]\n",
    "for cdf in dfs:\n",
    "    cTotal = (cdf[0].iloc[1,1:].values==\"25-34\").sum()\n",
    "    outputDF = outputDF.append(pd.DataFrame([[cdf[2],cdf[1],\"Age\",\"25-34\",np.round(totalAge/totalViews*100,3),df[\"age\"].nunique(),cTotal,np.round(cTotal/cdf[1]*100,3),cdf[0].iloc[1,1:].nunique(),np.round(cTotal/cdf[1]-totalAge/totalViews,3)]], columns=outputDF.columns))\n",
    "\n",
    "totalAge = df.loc[df[\"age\"]==\"35-44\"].groupby(\"age\")[\"sumVideoViews\"].sum().values[0]\n",
    "for cdf in dfs:\n",
    "    cTotal = (cdf[0].iloc[1,1:].values==\"35-44\").sum()\n",
    "    outputDF = outputDF.append(pd.DataFrame([[cdf[2],cdf[1],\"Age\",\"35-44\",np.round(totalAge/totalViews*100,3),df[\"age\"].nunique(),cTotal,np.round(cTotal/cdf[1]*100,3),cdf[0].iloc[1,1:].nunique(),np.round(cTotal/cdf[1]-totalAge/totalViews,3)]], columns=outputDF.columns))\n",
    "\n",
    "    \n",
    "totalAge = df.loc[df[\"age\"]==\"18-24\"].groupby(\"age\")[\"sumVideoViews\"].sum().values[0]\n",
    "for cdf in dfs:\n",
    "    cTotal = (cdf[0].iloc[1,1:].values==\"18-24\").sum()\n",
    "    outputDF = outputDF.append(pd.DataFrame([[cdf[2],cdf[1],\"Age\",\"18-24\",np.round(totalAge/totalViews*100,3),df[\"age\"].nunique(),cTotal,np.round(cTotal/cdf[1]*100,3),cdf[0].iloc[1,1:].nunique(),np.round(cTotal/cdf[1]-totalAge/totalViews,3)]], columns=outputDF.columns))\n",
    "\n",
    "totalAge = df.loc[df[\"age\"]==\"45-54\"].groupby(\"age\")[\"sumVideoViews\"].sum().values[0]\n",
    "for cdf in dfs:\n",
    "    cTotal = (cdf[0].iloc[1,1:].values==\"45-54\").sum()\n",
    "    outputDF = outputDF.append(pd.DataFrame([[cdf[2],cdf[1],\"Age\",\"45-54\",np.round(totalAge/totalViews*100,3),df[\"age\"].nunique(),cTotal,np.round(cTotal/cdf[1]*100,3),cdf[0].iloc[1,1:].nunique(),np.round(cTotal/cdf[1]-totalAge/totalViews,3)]], columns=outputDF.columns))\n",
    "\n",
    "totalAge = df.loc[df[\"age\"]==\"55-64\"].groupby(\"age\")[\"sumVideoViews\"].sum().values[0]\n",
    "for cdf in dfs:\n",
    "    cTotal = (cdf[0].iloc[1,1:].values==\"55-64\").sum()\n",
    "    outputDF = outputDF.append(pd.DataFrame([[cdf[2],cdf[1],\"Age\",\"55-64\",np.round(totalAge/totalViews*100,3),df[\"age\"].nunique(),cTotal,np.round(cTotal/cdf[1]*100,3),cdf[0].iloc[1,1:].nunique(),np.round(cTotal/cdf[1]-totalAge/totalViews,3)]], columns=outputDF.columns))\n",
    "\n",
    "totalAge = df.loc[df[\"age\"]==\"65+\"].groupby(\"age\")[\"sumVideoViews\"].sum().values[0]\n",
    "for cdf in dfs:\n",
    "    cTotal = (cdf[0].iloc[1,1:].values==\"65+\").sum()\n",
    "    outputDF = outputDF.append(pd.DataFrame([[cdf[2],cdf[1],\"Age\",\"65+\",np.round(totalAge/totalViews*100,3),df[\"age\"].nunique(),cTotal,np.round(cTotal/cdf[1]*100,3),cdf[0].iloc[1,1:].nunique(),np.round(cTotal/cdf[1]-totalAge/totalViews,3)]], columns=outputDF.columns))\n",
    "\n",
    "totalAge = df.loc[df[\"age\"]==\"13-17\"].groupby(\"age\")[\"sumVideoViews\"].sum().values[0]\n",
    "for cdf in dfs:\n",
    "    cTotal = (cdf[0].iloc[1,1:].values==\"13-17\").sum()\n",
    "    outputDF = outputDF.append(pd.DataFrame([[cdf[2],cdf[1],\"Age\",\"13-17\",np.round(totalAge/totalViews*100,3),df[\"age\"].nunique(),cTotal,np.round(cTotal/cdf[1]*100,3),cdf[0].iloc[1,1:].nunique(),np.round(cTotal/cdf[1]-totalAge/totalViews,3)]], columns=outputDF.columns))\n",
    "    \n"
   ]
  },
  {
   "cell_type": "code",
   "execution_count": 11,
   "metadata": {
    "ExecuteTime": {
     "end_time": "2020-05-29T19:50:32.485156Z",
     "start_time": "2020-05-29T19:50:32.470154Z"
    }
   },
   "outputs": [
    {
     "data": {
      "text/html": [
       "<div>\n",
       "<style scoped>\n",
       "    .dataframe tbody tr th:only-of-type {\n",
       "        vertical-align: middle;\n",
       "    }\n",
       "\n",
       "    .dataframe tbody tr th {\n",
       "        vertical-align: top;\n",
       "    }\n",
       "\n",
       "    .dataframe thead th {\n",
       "        text-align: right;\n",
       "    }\n",
       "</style>\n",
       "<table border=\"1\" class=\"dataframe\">\n",
       "  <thead>\n",
       "    <tr style=\"text-align: right;\">\n",
       "      <th></th>\n",
       "      <th>Dimensionality Reduction Algorithm</th>\n",
       "      <th>Number of Personas</th>\n",
       "      <th>GroupName</th>\n",
       "      <th>Subject</th>\n",
       "      <th>Percentage in Original Data</th>\n",
       "      <th>Unique Values in Original Data</th>\n",
       "      <th>Count in Persona Set</th>\n",
       "      <th>Percentage in Persona set</th>\n",
       "      <th>Total Unique Values in Persona Set</th>\n",
       "      <th>Statistical Parity</th>\n",
       "    </tr>\n",
       "  </thead>\n",
       "  <tbody>\n",
       "    <tr>\n",
       "      <th>0</th>\n",
       "      <td>Clustering</td>\n",
       "      <td>5</td>\n",
       "      <td>Gender</td>\n",
       "      <td>Male</td>\n",
       "      <td>59.677</td>\n",
       "      <td>2</td>\n",
       "      <td>4</td>\n",
       "      <td>80.000</td>\n",
       "      <td>2</td>\n",
       "      <td>0.203</td>\n",
       "    </tr>\n",
       "    <tr>\n",
       "      <th>0</th>\n",
       "      <td>Clustering</td>\n",
       "      <td>10</td>\n",
       "      <td>Gender</td>\n",
       "      <td>Male</td>\n",
       "      <td>59.677</td>\n",
       "      <td>2</td>\n",
       "      <td>6</td>\n",
       "      <td>60.000</td>\n",
       "      <td>2</td>\n",
       "      <td>0.003</td>\n",
       "    </tr>\n",
       "    <tr>\n",
       "      <th>0</th>\n",
       "      <td>Clustering</td>\n",
       "      <td>15</td>\n",
       "      <td>Gender</td>\n",
       "      <td>Male</td>\n",
       "      <td>59.677</td>\n",
       "      <td>2</td>\n",
       "      <td>13</td>\n",
       "      <td>86.667</td>\n",
       "      <td>2</td>\n",
       "      <td>0.270</td>\n",
       "    </tr>\n",
       "    <tr>\n",
       "      <th>0</th>\n",
       "      <td>PCA</td>\n",
       "      <td>5</td>\n",
       "      <td>Gender</td>\n",
       "      <td>Male</td>\n",
       "      <td>59.677</td>\n",
       "      <td>2</td>\n",
       "      <td>3</td>\n",
       "      <td>60.000</td>\n",
       "      <td>2</td>\n",
       "      <td>0.003</td>\n",
       "    </tr>\n",
       "    <tr>\n",
       "      <th>0</th>\n",
       "      <td>PCA</td>\n",
       "      <td>10</td>\n",
       "      <td>Gender</td>\n",
       "      <td>Male</td>\n",
       "      <td>59.677</td>\n",
       "      <td>2</td>\n",
       "      <td>8</td>\n",
       "      <td>80.000</td>\n",
       "      <td>2</td>\n",
       "      <td>0.203</td>\n",
       "    </tr>\n",
       "  </tbody>\n",
       "</table>\n",
       "</div>"
      ],
      "text/plain": [
       "  Dimensionality Reduction Algorithm Number of Personas GroupName Subject  \\\n",
       "0                         Clustering                  5    Gender    Male   \n",
       "0                         Clustering                 10    Gender    Male   \n",
       "0                         Clustering                 15    Gender    Male   \n",
       "0                                PCA                  5    Gender    Male   \n",
       "0                                PCA                 10    Gender    Male   \n",
       "\n",
       "   Percentage in Original Data Unique Values in Original Data  \\\n",
       "0                       59.677                              2   \n",
       "0                       59.677                              2   \n",
       "0                       59.677                              2   \n",
       "0                       59.677                              2   \n",
       "0                       59.677                              2   \n",
       "\n",
       "  Count in Persona Set  Percentage in Persona set  \\\n",
       "0                    4                     80.000   \n",
       "0                    6                     60.000   \n",
       "0                   13                     86.667   \n",
       "0                    3                     60.000   \n",
       "0                    8                     80.000   \n",
       "\n",
       "  Total Unique Values in Persona Set  Statistical Parity  \n",
       "0                                  2               0.203  \n",
       "0                                  2               0.003  \n",
       "0                                  2               0.270  \n",
       "0                                  2               0.003  \n",
       "0                                  2               0.203  "
      ]
     },
     "execution_count": 11,
     "metadata": {},
     "output_type": "execute_result"
    }
   ],
   "source": [
    "outputDF.head()"
   ]
  },
  {
   "cell_type": "code",
   "execution_count": 12,
   "metadata": {
    "ExecuteTime": {
     "end_time": "2020-05-29T19:50:32.499151Z",
     "start_time": "2020-05-29T19:50:32.488152Z"
    }
   },
   "outputs": [],
   "source": [
    "outputDF.to_csv(\"stat_parity.csv\",index=False)"
   ]
  },
  {
   "cell_type": "code",
   "execution_count": 13,
   "metadata": {
    "ExecuteTime": {
     "end_time": "2020-05-29T19:50:32.506152Z",
     "start_time": "2020-05-29T19:50:32.500152Z"
    }
   },
   "outputs": [],
   "source": [
    "outputDF['Statistical Parity_Positive'] = np.abs(outputDF['Statistical Parity'])"
   ]
  },
  {
   "cell_type": "code",
   "execution_count": 14,
   "metadata": {
    "ExecuteTime": {
     "end_time": "2020-05-29T19:50:32.523154Z",
     "start_time": "2020-05-29T19:50:32.509152Z"
    }
   },
   "outputs": [
    {
     "name": "stderr",
     "output_type": "stream",
     "text": [
      "C:\\Anaconda3\\lib\\site-packages\\ipykernel_launcher.py:1: FutureWarning: The signature of `Series.to_csv` was aligned to that of `DataFrame.to_csv`, and argument 'header' will change its default value from False to True: please pass an explicit value to suppress this warning.\n",
      "  \"\"\"Entry point for launching an IPython kernel.\n"
     ]
    }
   ],
   "source": [
    "outputDF.loc[outputDF[\"GroupName\"]==\"Country\"].groupby(['Dimensionality Reduction Algorithm','GroupName','Number of Personas'])['Statistical Parity_Positive'].mean().to_csv('Country_Stat_Parity_Mean.csv')"
   ]
  },
  {
   "cell_type": "code",
   "execution_count": 15,
   "metadata": {
    "ExecuteTime": {
     "end_time": "2020-05-29T19:50:32.537152Z",
     "start_time": "2020-05-29T19:50:32.526152Z"
    }
   },
   "outputs": [
    {
     "name": "stderr",
     "output_type": "stream",
     "text": [
      "C:\\Anaconda3\\lib\\site-packages\\ipykernel_launcher.py:1: FutureWarning: The signature of `Series.to_csv` was aligned to that of `DataFrame.to_csv`, and argument 'header' will change its default value from False to True: please pass an explicit value to suppress this warning.\n",
      "  \"\"\"Entry point for launching an IPython kernel.\n"
     ]
    }
   ],
   "source": [
    "outputDF.loc[outputDF[\"GroupName\"]==\"Age\"].groupby(['Dimensionality Reduction Algorithm','GroupName','Number of Personas'])['Statistical Parity_Positive'].mean().to_csv('Age_Stat_Parity_Mean.csv')"
   ]
  },
  {
   "cell_type": "code",
   "execution_count": 16,
   "metadata": {
    "ExecuteTime": {
     "end_time": "2020-05-29T19:50:32.551156Z",
     "start_time": "2020-05-29T19:50:32.538156Z"
    }
   },
   "outputs": [
    {
     "name": "stderr",
     "output_type": "stream",
     "text": [
      "C:\\Anaconda3\\lib\\site-packages\\ipykernel_launcher.py:1: FutureWarning: The signature of `Series.to_csv` was aligned to that of `DataFrame.to_csv`, and argument 'header' will change its default value from False to True: please pass an explicit value to suppress this warning.\n",
      "  \"\"\"Entry point for launching an IPython kernel.\n"
     ]
    }
   ],
   "source": [
    "outputDF.loc[outputDF[\"GroupName\"]==\"Gender\"].groupby(['Dimensionality Reduction Algorithm','GroupName','Number of Personas'])['Statistical Parity_Positive'].mean().to_csv('Gender_Stat_Parity_Mean.csv')"
   ]
  },
  {
   "cell_type": "code",
   "execution_count": 17,
   "metadata": {
    "ExecuteTime": {
     "end_time": "2020-05-29T19:50:32.557156Z",
     "start_time": "2020-05-29T19:50:32.554154Z"
    }
   },
   "outputs": [],
   "source": [
    "dralgos = [\"Clustering\",\"PCA\",\"NMF\",\"LDA\",\"SE\",\"UMAP\"]"
   ]
  },
  {
   "cell_type": "code",
   "execution_count": 18,
   "metadata": {
    "ExecuteTime": {
     "end_time": "2020-05-29T19:50:32.565152Z",
     "start_time": "2020-05-29T19:50:32.559155Z"
    }
   },
   "outputs": [],
   "source": [
    "dralgos_all = [\"Clustering-5\",\"Clustering-10\",\"Clustering-15\",\"PCA-5\",\"PCA-10\",\"PCA-15\",\"NMF-5\",\"NMF-10\",\"NMF-15\",\"LDA-5\",\"LDA-10\",\"LDA-15\",\"SE-5\",\"SE-10\",\"SE-15\",\"UMAP-5\",\"UMAP-10\",\"UMAP-15\"]"
   ]
  },
  {
   "cell_type": "code",
   "execution_count": 19,
   "metadata": {
    "ExecuteTime": {
     "end_time": "2020-05-29T19:50:32.572154Z",
     "start_time": "2020-05-29T19:50:32.567154Z"
    }
   },
   "outputs": [],
   "source": [
    "def unique(list1): \n",
    "    x = np.array(list1) \n",
    "    return np.unique(x)"
   ]
  },
  {
   "cell_type": "code",
   "execution_count": 20,
   "metadata": {
    "ExecuteTime": {
     "end_time": "2020-05-29T19:50:32.583178Z",
     "start_time": "2020-05-29T19:50:32.574153Z"
    }
   },
   "outputs": [],
   "source": [
    "#Country in Persona set contain full name. So we change the code of countries to their full name first.\n",
    "df['country'] = df['country'].map({\n",
    "    \"US\":\"United States\",\n",
    "    \"IN\":\"India\",\n",
    "    \"MY\":\"Malaysia\",\n",
    "    \"GB\":\"United Kingdom\",\n",
    "    \"RS\":\"Serbia\",\n",
    "    \"PK\":\"Pakistan\",\n",
    "    \"PH\":\"Philippines\",\n",
    "    \"ID\":\"Indonesia\",\n",
    "    \"SG\":\"Singapore\",\n",
    "    \"NA\":\"Namibia\",\n",
    "    \"DM\":\"Dominica\",\n",
    "    \"NG\":\"Nigeria\",\n",
    "    \"PL\":\"Poland\",\n",
    "    \"BD\":\"Bangladesh\",\n",
    "    \"FO\":\"Faroe Islands\",\n",
    "    \"GD\":\"Grenada\",\n",
    "    \"BW\":\"Botswana\",\n",
    "    \"VE\":\"Venezuela, Bolivarian Republic of\",\n",
    "    \"CA\":\"Canada\",\n",
    "    \"KE\":\"Kenya\",\n",
    "    \"SV\":\"El Salvador\",\n",
    "    \"BY\":\"Belarus\",\n",
    "    \"BR\":\"Brazil\",\n",
    "    \"SR\":\"Suriname\",\n",
    "    \"AE\":\"United Arab Emirates\",\n",
    "    \"QA\":\"Qatar\",\n",
    "    \"ZA\":\"South Africa\",\n",
    "    \"ZW\":\"Zimbabwe\",\n",
    "    \"SL\":\"Sierra Leone\",\n",
    "    \"HU\":\"Hungary\",\n",
    "    \"AU\":\"Australia\",\n",
    "    \"MR\":\"Mauritania\",\n",
    "    \"UG\":\"Uganda\",\n",
    "    \"NL\":\"Netherlands\",\n",
    "    \"MV\":\"Maldives\",\n",
    "    \"FJ\":\"Fiji\",\n",
    "    \"AZ\":\"Azerbaijan\",\n",
    "    \"GU\":\"Guam\",\n",
    "    \"DK\":\"Denmark\",\n",
    "    \"IE\":\"Ireland\",\n",
    "    \"SY\":\"Syrian Arab Republic\",\n",
    "    \"CI\":\"Côte d'Ivoire\",\n",
    "    \"EE\":\"Estonia\",\n",
    "    \"AG\":\"Antigua and Barbuda\",\n",
    "    \"GM\":\"Gambia\",\n",
    "    \"LT\":\"Lithuania\",\n",
    "    \"BA\":\"Bosnia and Herzegovina\",\n",
    "    \"MZ\":\"Mozambique\",\n",
    "    \"FI\":\"Finland\",\n",
    "    \"AI\":\"Anguilla\" \n",
    "})"
   ]
  },
  {
   "cell_type": "code",
   "execution_count": 21,
   "metadata": {
    "ExecuteTime": {
     "end_time": "2020-05-29T19:50:32.885154Z",
     "start_time": "2020-05-29T19:50:32.584153Z"
    },
    "scrolled": true
   },
   "outputs": [],
   "source": [
    "for i in range(6):\n",
    "    outputDF = pd.DataFrame(columns=[\"Country\",\"SHARE OF PERSONAS\",\"SHARE OF BASELINE\"])\n",
    "\n",
    "    uniqueCountries1 = dfs[i*3][0].iloc[3,1:].tolist()\n",
    "    uniqueCountries2 = dfs[i*3+1][0].iloc[3,1:].tolist()\n",
    "    uniqueCountries3 = dfs[i*3+2][0].iloc[3,1:].tolist()\n",
    "    \n",
    "    uniqueCountries = unique(uniqueCountries1+uniqueCountries2+uniqueCountries3)\n",
    "    countt = Counter(uniqueCountries1+uniqueCountries2+uniqueCountries3)\n",
    "    \n",
    "    for country in uniqueCountries:\n",
    "        outputDF = outputDF.append(pd.DataFrame([[country,countt[country]/30*100,df.loc[df[\"country\"]==country]['sumVideoViews'].sum()/totalViews*100]], columns=outputDF.columns))\n",
    "    \n",
    "    outputDF.to_csv(\"countrydata2/country_\"+dralgos[i]+\".csv\",index=False)"
   ]
  },
  {
   "cell_type": "code",
   "execution_count": 22,
   "metadata": {
    "ExecuteTime": {
     "end_time": "2020-05-29T19:50:32.898154Z",
     "start_time": "2020-05-29T19:50:32.889155Z"
    }
   },
   "outputs": [
    {
     "data": {
      "text/html": [
       "<div>\n",
       "<style scoped>\n",
       "    .dataframe tbody tr th:only-of-type {\n",
       "        vertical-align: middle;\n",
       "    }\n",
       "\n",
       "    .dataframe tbody tr th {\n",
       "        vertical-align: top;\n",
       "    }\n",
       "\n",
       "    .dataframe thead th {\n",
       "        text-align: right;\n",
       "    }\n",
       "</style>\n",
       "<table border=\"1\" class=\"dataframe\">\n",
       "  <thead>\n",
       "    <tr style=\"text-align: right;\">\n",
       "      <th></th>\n",
       "      <th>Country</th>\n",
       "      <th>SHARE OF PERSONAS</th>\n",
       "      <th>SHARE OF BASELINE</th>\n",
       "    </tr>\n",
       "  </thead>\n",
       "  <tbody>\n",
       "    <tr>\n",
       "      <th>0</th>\n",
       "      <td>Anguilla</td>\n",
       "      <td>3.333333</td>\n",
       "      <td>0.078326</td>\n",
       "    </tr>\n",
       "    <tr>\n",
       "      <th>0</th>\n",
       "      <td>Bangladesh</td>\n",
       "      <td>6.666667</td>\n",
       "      <td>0.908098</td>\n",
       "    </tr>\n",
       "    <tr>\n",
       "      <th>0</th>\n",
       "      <td>Belarus</td>\n",
       "      <td>3.333333</td>\n",
       "      <td>0.567564</td>\n",
       "    </tr>\n",
       "    <tr>\n",
       "      <th>0</th>\n",
       "      <td>Bosnia and Herzegovina</td>\n",
       "      <td>6.666667</td>\n",
       "      <td>0.550162</td>\n",
       "    </tr>\n",
       "    <tr>\n",
       "      <th>0</th>\n",
       "      <td>Botswana</td>\n",
       "      <td>3.333333</td>\n",
       "      <td>0.502054</td>\n",
       "    </tr>\n",
       "  </tbody>\n",
       "</table>\n",
       "</div>"
      ],
      "text/plain": [
       "                  Country  SHARE OF PERSONAS  SHARE OF BASELINE\n",
       "0                Anguilla           3.333333           0.078326\n",
       "0              Bangladesh           6.666667           0.908098\n",
       "0                 Belarus           3.333333           0.567564\n",
       "0  Bosnia and Herzegovina           6.666667           0.550162\n",
       "0                Botswana           3.333333           0.502054"
      ]
     },
     "execution_count": 22,
     "metadata": {},
     "output_type": "execute_result"
    }
   ],
   "source": [
    "outputDF.head()"
   ]
  },
  {
   "cell_type": "markdown",
   "metadata": {},
   "source": [
    "# Jaccard"
   ]
  },
  {
   "cell_type": "code",
   "execution_count": 23,
   "metadata": {
    "ExecuteTime": {
     "end_time": "2020-05-29T19:50:32.905155Z",
     "start_time": "2020-05-29T19:50:32.901154Z"
    }
   },
   "outputs": [],
   "source": [
    "def jaccard(a, b):\n",
    "    c = a.intersection(b)\n",
    "    return float(len(c)) / (len(a) + len(b) - len(c))\n",
    "dralgos = [\"Clustering\",\"PCA\",\"NMF\",\"LDA\",\"SE\",\"UMAP\"]"
   ]
  },
  {
   "cell_type": "markdown",
   "metadata": {},
   "source": [
    "## Country"
   ]
  },
  {
   "cell_type": "code",
   "execution_count": 24,
   "metadata": {
    "ExecuteTime": {
     "end_time": "2020-05-29T19:50:32.917152Z",
     "start_time": "2020-05-29T19:50:32.908153Z"
    }
   },
   "outputs": [],
   "source": [
    "allvalues = []\n",
    "for i in range(6):\n",
    "    values1 = dfs[i*3][0].iloc[3,1:].tolist()\n",
    "    values2 = dfs[i*3+1][0].iloc[3,1:].tolist()\n",
    "    values3 = dfs[i*3+1][0].iloc[3,1:].tolist()\n",
    "    \n",
    "    values = set(values1+values2+values3)\n",
    "    \n",
    "    allvalues.append(values)"
   ]
  },
  {
   "cell_type": "code",
   "execution_count": 25,
   "metadata": {
    "ExecuteTime": {
     "end_time": "2020-05-29T19:50:32.931167Z",
     "start_time": "2020-05-29T19:50:32.919155Z"
    }
   },
   "outputs": [
    {
     "name": "stdout",
     "output_type": "stream",
     "text": [
      "Clustering Clustering 1.0\n",
      "Clustering PCA 0.091\n",
      "Clustering NMF 0.4\n",
      "Clustering LDA 0.2\n",
      "Clustering SE 0.111\n",
      "Clustering UMAP 0.333\n",
      "PCA PCA 1.0\n",
      "PCA NMF 0.182\n",
      "PCA LDA 0.2\n",
      "PCA SE 0.778\n",
      "PCA UMAP 0.2\n",
      "NMF NMF 1.0\n",
      "NMF LDA 0.182\n",
      "NMF SE 0.1\n",
      "NMF UMAP 0.444\n",
      "LDA LDA 1.0\n",
      "LDA SE 0.231\n",
      "LDA UMAP 0.125\n",
      "SE SE 1.0\n",
      "SE UMAP 0.143\n"
     ]
    }
   ],
   "source": [
    "for i in range(5):\n",
    "    for j in range(6-i):\n",
    "        print(dralgos[i],dralgos[i+j],np.round(jaccard(allvalues[i], allvalues[i+j]),3))"
   ]
  },
  {
   "cell_type": "markdown",
   "metadata": {},
   "source": [
    "## Gender"
   ]
  },
  {
   "cell_type": "code",
   "execution_count": 26,
   "metadata": {
    "ExecuteTime": {
     "end_time": "2020-05-29T19:50:32.949195Z",
     "start_time": "2020-05-29T19:50:32.934152Z"
    }
   },
   "outputs": [
    {
     "name": "stdout",
     "output_type": "stream",
     "text": [
      "Clustering Clustering 1.0\n",
      "Clustering PCA 1.0\n",
      "Clustering NMF 1.0\n",
      "Clustering LDA 1.0\n",
      "Clustering SE 1.0\n",
      "Clustering UMAP 1.0\n",
      "PCA PCA 1.0\n",
      "PCA NMF 1.0\n",
      "PCA LDA 1.0\n",
      "PCA SE 1.0\n",
      "PCA UMAP 1.0\n",
      "NMF NMF 1.0\n",
      "NMF LDA 1.0\n",
      "NMF SE 1.0\n",
      "NMF UMAP 1.0\n",
      "LDA LDA 1.0\n",
      "LDA SE 1.0\n",
      "LDA UMAP 1.0\n",
      "SE SE 1.0\n",
      "SE UMAP 1.0\n"
     ]
    }
   ],
   "source": [
    "allvalues = []\n",
    "for i in range(6):\n",
    "    values1 = dfs[i*3][0].iloc[2,1:].tolist()\n",
    "    values2 = dfs[i*3+1][0].iloc[2,1:].tolist()\n",
    "    values3 = dfs[i*3+1][0].iloc[2,1:].tolist()\n",
    "    \n",
    "    values = set(values1+values2+values3)\n",
    "    \n",
    "    allvalues.append(values)\n",
    "    \n",
    "for i in range(5):\n",
    "    for j in range(6-i):\n",
    "        print(dralgos[i],dralgos[i+j],np.round(jaccard(allvalues[i], allvalues[i+j]),3))"
   ]
  },
  {
   "cell_type": "markdown",
   "metadata": {},
   "source": [
    "## Age"
   ]
  },
  {
   "cell_type": "code",
   "execution_count": 27,
   "metadata": {
    "ExecuteTime": {
     "end_time": "2020-05-29T19:50:32.969154Z",
     "start_time": "2020-05-29T19:50:32.952150Z"
    }
   },
   "outputs": [
    {
     "name": "stdout",
     "output_type": "stream",
     "text": [
      "Clustering Clustering 1.0\n",
      "Clustering PCA 0.333\n",
      "Clustering NMF 0.571\n",
      "Clustering LDA 0.714\n",
      "Clustering SE 0.833\n",
      "Clustering UMAP 0.714\n",
      "PCA PCA 1.0\n",
      "PCA NMF 0.5\n",
      "PCA LDA 0.429\n",
      "PCA SE 0.5\n",
      "PCA UMAP 0.429\n",
      "NMF NMF 1.0\n",
      "NMF LDA 0.857\n",
      "NMF SE 0.714\n",
      "NMF UMAP 0.857\n",
      "LDA LDA 1.0\n",
      "LDA SE 0.857\n",
      "LDA UMAP 1.0\n",
      "SE SE 1.0\n",
      "SE UMAP 0.857\n"
     ]
    }
   ],
   "source": [
    "allvalues = []\n",
    "for i in range(6):\n",
    "    values1 = dfs[i*3][0].iloc[1,1:].tolist()\n",
    "    values2 = dfs[i*3+1][0].iloc[1,1:].tolist()\n",
    "    values3 = dfs[i*3+1][0].iloc[1,1:].tolist()\n",
    "    \n",
    "    values = set(values1+values2+values3)\n",
    "    \n",
    "    allvalues.append(values)\n",
    "    \n",
    "for i in range(5):\n",
    "    for j in range(6-i):\n",
    "        print(dralgos[i],dralgos[i+j],np.round(jaccard(allvalues[i], allvalues[i+j]),3))"
   ]
  },
  {
   "cell_type": "markdown",
   "metadata": {},
   "source": [
    "# Statistical Parity of each and every country in the persona set"
   ]
  },
  {
   "cell_type": "code",
   "execution_count": 28,
   "metadata": {
    "ExecuteTime": {
     "end_time": "2020-05-29T19:50:33.197152Z",
     "start_time": "2020-05-29T19:50:32.971190Z"
    }
   },
   "outputs": [],
   "source": [
    "totalViews = df[\"sumVideoViews\"].sum()\n",
    "\n",
    "outputDF = pd.DataFrame(columns=[\"Dimensionality Reduction Algorithm\",\"Number of Personas\",\"GroupName\",\"Subject\",\"Percentage in Original Data\",\"Unique Values in Original Data\",\"Count in Persona Set\",\"Percentage in Persona set\",\"Total Unique Values in Persona Set\",\"Statistical Parity\"])\n",
    "\n",
    "dfs = []\n",
    "for dralgo in dralgos:\n",
    "    for i in range(3):\n",
    "        temp = pd.read_excel(\"personas/\"+dralgo+\".xlsx\",sheet_name=2-i)\n",
    "        temp = fixAge(temp)\n",
    "        dfs.append([temp,temp.shape[1]-1,dralgo])"
   ]
  },
  {
   "cell_type": "code",
   "execution_count": 29,
   "metadata": {
    "ExecuteTime": {
     "end_time": "2020-05-29T19:50:33.258153Z",
     "start_time": "2020-05-29T19:50:33.199152Z"
    }
   },
   "outputs": [],
   "source": [
    "df = df.loc[~df[\"country\"].isnull()]"
   ]
  },
  {
   "cell_type": "code",
   "execution_count": 30,
   "metadata": {
    "ExecuteTime": {
     "end_time": "2020-05-29T19:50:37.649379Z",
     "start_time": "2020-05-29T19:50:33.260152Z"
    }
   },
   "outputs": [],
   "source": [
    "for countr in df.country.unique().tolist():\n",
    "\n",
    "    totalCountry = df.loc[df[\"country\"]==countr].groupby(\"country\")[\"sumVideoViews\"].sum().values[0]\n",
    "    for cdf in dfs:\n",
    "        cTotal = (cdf[0].iloc[3,1:].values==countr).sum()\n",
    "        outputDF = outputDF.append(pd.DataFrame([[cdf[2],cdf[1],\"Country\",countr,np.round(totalCountry/totalViews*100,3),df[\"country\"].nunique(),cTotal,np.round(cTotal/cdf[1]*100,3),cdf[0].iloc[3,1:].nunique(),np.round(cTotal/cdf[1]-totalCountry/totalViews,3)]], columns=outputDF.columns))\n"
   ]
  },
  {
   "cell_type": "code",
   "execution_count": 31,
   "metadata": {
    "ExecuteTime": {
     "end_time": "2020-05-29T19:50:37.656382Z",
     "start_time": "2020-05-29T19:50:37.651381Z"
    }
   },
   "outputs": [],
   "source": [
    "outputDF['Statistical Parity_Positive'] = np.abs(outputDF['Statistical Parity'])"
   ]
  },
  {
   "cell_type": "code",
   "execution_count": 32,
   "metadata": {
    "ExecuteTime": {
     "end_time": "2020-05-29T19:50:37.681382Z",
     "start_time": "2020-05-29T19:50:37.657381Z"
    }
   },
   "outputs": [
    {
     "data": {
      "text/html": [
       "<div>\n",
       "<style scoped>\n",
       "    .dataframe tbody tr th:only-of-type {\n",
       "        vertical-align: middle;\n",
       "    }\n",
       "\n",
       "    .dataframe tbody tr th {\n",
       "        vertical-align: top;\n",
       "    }\n",
       "\n",
       "    .dataframe thead th {\n",
       "        text-align: right;\n",
       "    }\n",
       "</style>\n",
       "<table border=\"1\" class=\"dataframe\">\n",
       "  <thead>\n",
       "    <tr style=\"text-align: right;\">\n",
       "      <th></th>\n",
       "      <th>Dimensionality Reduction Algorithm</th>\n",
       "      <th>Number of Personas</th>\n",
       "      <th>GroupName</th>\n",
       "      <th>Subject</th>\n",
       "      <th>Percentage in Original Data</th>\n",
       "      <th>Unique Values in Original Data</th>\n",
       "      <th>Count in Persona Set</th>\n",
       "      <th>Percentage in Persona set</th>\n",
       "      <th>Total Unique Values in Persona Set</th>\n",
       "      <th>Statistical Parity</th>\n",
       "      <th>Statistical Parity_Positive</th>\n",
       "    </tr>\n",
       "  </thead>\n",
       "  <tbody>\n",
       "    <tr>\n",
       "      <th>0</th>\n",
       "      <td>Clustering</td>\n",
       "      <td>5</td>\n",
       "      <td>Country</td>\n",
       "      <td>United Arab Emirates</td>\n",
       "      <td>0.921</td>\n",
       "      <td>50</td>\n",
       "      <td>0</td>\n",
       "      <td>0.000</td>\n",
       "      <td>1</td>\n",
       "      <td>-0.009</td>\n",
       "      <td>0.009</td>\n",
       "    </tr>\n",
       "    <tr>\n",
       "      <th>0</th>\n",
       "      <td>Clustering</td>\n",
       "      <td>10</td>\n",
       "      <td>Country</td>\n",
       "      <td>United Arab Emirates</td>\n",
       "      <td>0.921</td>\n",
       "      <td>50</td>\n",
       "      <td>0</td>\n",
       "      <td>0.000</td>\n",
       "      <td>3</td>\n",
       "      <td>-0.009</td>\n",
       "      <td>0.009</td>\n",
       "    </tr>\n",
       "    <tr>\n",
       "      <th>0</th>\n",
       "      <td>Clustering</td>\n",
       "      <td>15</td>\n",
       "      <td>Country</td>\n",
       "      <td>United Arab Emirates</td>\n",
       "      <td>0.921</td>\n",
       "      <td>50</td>\n",
       "      <td>2</td>\n",
       "      <td>13.333</td>\n",
       "      <td>4</td>\n",
       "      <td>0.124</td>\n",
       "      <td>0.124</td>\n",
       "    </tr>\n",
       "    <tr>\n",
       "      <th>0</th>\n",
       "      <td>PCA</td>\n",
       "      <td>5</td>\n",
       "      <td>Country</td>\n",
       "      <td>United Arab Emirates</td>\n",
       "      <td>0.921</td>\n",
       "      <td>50</td>\n",
       "      <td>0</td>\n",
       "      <td>0.000</td>\n",
       "      <td>2</td>\n",
       "      <td>-0.009</td>\n",
       "      <td>0.009</td>\n",
       "    </tr>\n",
       "    <tr>\n",
       "      <th>0</th>\n",
       "      <td>PCA</td>\n",
       "      <td>10</td>\n",
       "      <td>Country</td>\n",
       "      <td>United Arab Emirates</td>\n",
       "      <td>0.921</td>\n",
       "      <td>50</td>\n",
       "      <td>0</td>\n",
       "      <td>0.000</td>\n",
       "      <td>8</td>\n",
       "      <td>-0.009</td>\n",
       "      <td>0.009</td>\n",
       "    </tr>\n",
       "    <tr>\n",
       "      <th>...</th>\n",
       "      <td>...</td>\n",
       "      <td>...</td>\n",
       "      <td>...</td>\n",
       "      <td>...</td>\n",
       "      <td>...</td>\n",
       "      <td>...</td>\n",
       "      <td>...</td>\n",
       "      <td>...</td>\n",
       "      <td>...</td>\n",
       "      <td>...</td>\n",
       "      <td>...</td>\n",
       "    </tr>\n",
       "    <tr>\n",
       "      <th>0</th>\n",
       "      <td>SE</td>\n",
       "      <td>10</td>\n",
       "      <td>Country</td>\n",
       "      <td>Zimbabwe</td>\n",
       "      <td>0.632</td>\n",
       "      <td>50</td>\n",
       "      <td>0</td>\n",
       "      <td>0.000</td>\n",
       "      <td>7</td>\n",
       "      <td>-0.006</td>\n",
       "      <td>0.006</td>\n",
       "    </tr>\n",
       "    <tr>\n",
       "      <th>0</th>\n",
       "      <td>SE</td>\n",
       "      <td>15</td>\n",
       "      <td>Country</td>\n",
       "      <td>Zimbabwe</td>\n",
       "      <td>0.632</td>\n",
       "      <td>50</td>\n",
       "      <td>0</td>\n",
       "      <td>0.000</td>\n",
       "      <td>10</td>\n",
       "      <td>-0.006</td>\n",
       "      <td>0.006</td>\n",
       "    </tr>\n",
       "    <tr>\n",
       "      <th>0</th>\n",
       "      <td>UMAP</td>\n",
       "      <td>5</td>\n",
       "      <td>Country</td>\n",
       "      <td>Zimbabwe</td>\n",
       "      <td>0.632</td>\n",
       "      <td>50</td>\n",
       "      <td>0</td>\n",
       "      <td>0.000</td>\n",
       "      <td>3</td>\n",
       "      <td>-0.006</td>\n",
       "      <td>0.006</td>\n",
       "    </tr>\n",
       "    <tr>\n",
       "      <th>0</th>\n",
       "      <td>UMAP</td>\n",
       "      <td>10</td>\n",
       "      <td>Country</td>\n",
       "      <td>Zimbabwe</td>\n",
       "      <td>0.632</td>\n",
       "      <td>50</td>\n",
       "      <td>0</td>\n",
       "      <td>0.000</td>\n",
       "      <td>6</td>\n",
       "      <td>-0.006</td>\n",
       "      <td>0.006</td>\n",
       "    </tr>\n",
       "    <tr>\n",
       "      <th>0</th>\n",
       "      <td>UMAP</td>\n",
       "      <td>15</td>\n",
       "      <td>Country</td>\n",
       "      <td>Zimbabwe</td>\n",
       "      <td>0.632</td>\n",
       "      <td>50</td>\n",
       "      <td>0</td>\n",
       "      <td>0.000</td>\n",
       "      <td>10</td>\n",
       "      <td>-0.006</td>\n",
       "      <td>0.006</td>\n",
       "    </tr>\n",
       "  </tbody>\n",
       "</table>\n",
       "<p>900 rows × 11 columns</p>\n",
       "</div>"
      ],
      "text/plain": [
       "   Dimensionality Reduction Algorithm Number of Personas GroupName  \\\n",
       "0                          Clustering                  5   Country   \n",
       "0                          Clustering                 10   Country   \n",
       "0                          Clustering                 15   Country   \n",
       "0                                 PCA                  5   Country   \n",
       "0                                 PCA                 10   Country   \n",
       "..                                ...                ...       ...   \n",
       "0                                  SE                 10   Country   \n",
       "0                                  SE                 15   Country   \n",
       "0                                UMAP                  5   Country   \n",
       "0                                UMAP                 10   Country   \n",
       "0                                UMAP                 15   Country   \n",
       "\n",
       "                 Subject  Percentage in Original Data  \\\n",
       "0   United Arab Emirates                        0.921   \n",
       "0   United Arab Emirates                        0.921   \n",
       "0   United Arab Emirates                        0.921   \n",
       "0   United Arab Emirates                        0.921   \n",
       "0   United Arab Emirates                        0.921   \n",
       "..                   ...                          ...   \n",
       "0               Zimbabwe                        0.632   \n",
       "0               Zimbabwe                        0.632   \n",
       "0               Zimbabwe                        0.632   \n",
       "0               Zimbabwe                        0.632   \n",
       "0               Zimbabwe                        0.632   \n",
       "\n",
       "   Unique Values in Original Data Count in Persona Set  \\\n",
       "0                              50                    0   \n",
       "0                              50                    0   \n",
       "0                              50                    2   \n",
       "0                              50                    0   \n",
       "0                              50                    0   \n",
       "..                            ...                  ...   \n",
       "0                              50                    0   \n",
       "0                              50                    0   \n",
       "0                              50                    0   \n",
       "0                              50                    0   \n",
       "0                              50                    0   \n",
       "\n",
       "    Percentage in Persona set Total Unique Values in Persona Set  \\\n",
       "0                       0.000                                  1   \n",
       "0                       0.000                                  3   \n",
       "0                      13.333                                  4   \n",
       "0                       0.000                                  2   \n",
       "0                       0.000                                  8   \n",
       "..                        ...                                ...   \n",
       "0                       0.000                                  7   \n",
       "0                       0.000                                 10   \n",
       "0                       0.000                                  3   \n",
       "0                       0.000                                  6   \n",
       "0                       0.000                                 10   \n",
       "\n",
       "    Statistical Parity  Statistical Parity_Positive  \n",
       "0               -0.009                        0.009  \n",
       "0               -0.009                        0.009  \n",
       "0                0.124                        0.124  \n",
       "0               -0.009                        0.009  \n",
       "0               -0.009                        0.009  \n",
       "..                 ...                          ...  \n",
       "0               -0.006                        0.006  \n",
       "0               -0.006                        0.006  \n",
       "0               -0.006                        0.006  \n",
       "0               -0.006                        0.006  \n",
       "0               -0.006                        0.006  \n",
       "\n",
       "[900 rows x 11 columns]"
      ]
     },
     "execution_count": 32,
     "metadata": {},
     "output_type": "execute_result"
    }
   ],
   "source": [
    "outputDF"
   ]
  },
  {
   "cell_type": "code",
   "execution_count": 33,
   "metadata": {
    "ExecuteTime": {
     "end_time": "2020-05-29T19:50:37.695381Z",
     "start_time": "2020-05-29T19:50:37.682381Z"
    }
   },
   "outputs": [
    {
     "name": "stderr",
     "output_type": "stream",
     "text": [
      "C:\\Anaconda3\\lib\\site-packages\\ipykernel_launcher.py:1: FutureWarning: The signature of `Series.to_csv` was aligned to that of `DataFrame.to_csv`, and argument 'header' will change its default value from False to True: please pass an explicit value to suppress this warning.\n",
      "  \"\"\"Entry point for launching an IPython kernel.\n"
     ]
    }
   ],
   "source": [
    "outputDF.loc[outputDF[\"GroupName\"]==\"Country\"].groupby(['Dimensionality Reduction Algorithm','GroupName','Number of Personas'])['Statistical Parity_Positive'].sum().to_csv('Country3_Stat_Parity_Mean.csv')"
   ]
  },
  {
   "cell_type": "markdown",
   "metadata": {},
   "source": [
    "## Gender Distribution by age"
   ]
  },
  {
   "cell_type": "code",
   "execution_count": 34,
   "metadata": {
    "ExecuteTime": {
     "end_time": "2020-05-29T19:50:38.016417Z",
     "start_time": "2020-05-29T19:50:37.697382Z"
    },
    "scrolled": true
   },
   "outputs": [
    {
     "name": "stderr",
     "output_type": "stream",
     "text": [
      "C:\\Anaconda3\\lib\\site-packages\\pandas\\core\\indexing.py:205: SettingWithCopyWarning: \n",
      "A value is trying to be set on a copy of a slice from a DataFrame\n",
      "\n",
      "See the caveats in the documentation: http://pandas.pydata.org/pandas-docs/stable/user_guide/indexing.html#returning-a-view-versus-a-copy\n",
      "  self._setitem_with_indexer(indexer, value)\n"
     ]
    },
    {
     "data": {
      "text/plain": [
       "<matplotlib.axes._subplots.AxesSubplot at 0x22e7e726f48>"
      ]
     },
     "execution_count": 34,
     "metadata": {},
     "output_type": "execute_result"
    },
    {
     "data": {
      "image/png": "[encoded data removed]",
      "text/plain": [
       "<Figure size 720x576 with 1 Axes>"
      ]
     },
     "metadata": {
      "needs_background": "light"
     },
     "output_type": "display_data"
    }
   ],
   "source": [
    "keys = df.age.unique().tolist()\n",
    "dummy = pd.DataFrame([],\n",
    "                     columns=[\"Female\", \"Male\"],\n",
    "                    index=keys)\n",
    "for i in range(dummy.shape[0]):\n",
    "    dummy['Female'].iloc[i] = -df.loc[(df.age==keys[i]) & (df.gender==\"female\")]['sumVideoViews'].sum()\n",
    "    dummy['Male'].iloc[i] = df.loc[(df.age==keys[i]) & (df.gender==\"male\")]['sumVideoViews'].sum()\n",
    "likert_colors = ['#00adc7', \"#ff8169\"]\n",
    "dummy.plot.barh(stacked=True, color=likert_colors, edgecolor='none', legend=True,figsize=(10,8),title=\"Gender Distribution by Age group\")"
   ]
  },
  {
   "cell_type": "markdown",
   "metadata": {},
   "source": [
    "Female distribution in the baseline data (left-hand sidebars) and in the persona sets (right-hand sidebars) across all three\n",
    "persona generations. LDA and UMAP generate female personas from most age groups."
   ]
  },
  {
   "cell_type": "code",
   "execution_count": 35,
   "metadata": {
    "ExecuteTime": {
     "end_time": "2020-05-29T19:50:39.487377Z",
     "start_time": "2020-05-29T19:50:38.017378Z"
    }
   },
   "outputs": [
    {
     "data": {
      "image/png": "[encoded data removed]",
      "text/plain": [
       "<Figure size 792x576 with 1 Axes>"
      ]
     },
     "metadata": {
      "needs_background": "light"
     },
     "output_type": "display_data"
    },
    {
     "data": {
      "image/png": "[encoded data removed]",
      "text/plain": [
       "<Figure size 792x576 with 1 Axes>"
      ]
     },
     "metadata": {
      "needs_background": "light"
     },
     "output_type": "display_data"
    },
    {
     "data": {
      "image/png": "[encoded data removed]",
      "text/plain": [
       "<Figure size 792x576 with 1 Axes>"
      ]
     },
     "metadata": {
      "needs_background": "light"
     },
     "output_type": "display_data"
    },
    {
     "data": {
      "image/png": "[encoded data removed]",
      "text/plain": [
       "<Figure size 792x576 with 1 Axes>"
      ]
     },
     "metadata": {
      "needs_background": "light"
     },
     "output_type": "display_data"
    },
    {
     "data": {
      "image/png": "[encoded data removed]",
      "text/plain": [
       "<Figure size 792x576 with 1 Axes>"
      ]
     },
     "metadata": {
      "needs_background": "light"
     },
     "output_type": "display_data"
    },
    {
     "data": {
      "image/png": "[encoded data removed]",
      "text/plain": [
       "<Figure size 792x576 with 1 Axes>"
      ]
     },
     "metadata": {
      "needs_background": "light"
     },
     "output_type": "display_data"
    }
   ],
   "source": [
    "keys = df.age.unique().tolist()\n",
    "\n",
    "for dralgo in dralgos:\n",
    "    for i in range(3):\n",
    "        if i == 0:\n",
    "            temp = pd.read_excel(\"personas/\"+dralgo+\".xlsx\",sheet_name=2-i)\n",
    "            temp = fixAge(temp).transpose().iloc[1:,:]\n",
    "        else:\n",
    "            temp = pd.concat([temp,fixAge(pd.read_excel(dralgo+\".xlsx\",sheet_name=2-i)).transpose().iloc[1:,:]])\n",
    "\n",
    "\n",
    "    dummy = pd.DataFrame([],columns=[\"Raw data\", \"Persona set\"],index=keys)\n",
    "    for i in range(dummy.shape[0]):\n",
    "        dummy['Raw data'].iloc[i] = -df.loc[(df.age==keys[i]) & (df.gender==\"female\")]['sumVideoViews'].sum()/df['sumVideoViews'].sum()*100\n",
    "        dummy['Persona set'].iloc[i] = temp.loc[(temp[1]==keys[i]) & (temp[2]==\"female\")].shape[0]/30*100\n",
    "    likert_colors = ['#00adc7', \"#ff8169\"]\n",
    "    dummy.plot.barh(stacked=True, color=likert_colors, edgecolor='none', legend=True,figsize=(11,8),fontsize=30)\n",
    "    plt.legend(prop={'size': 24})"
   ]
  },
  {
   "cell_type": "code",
   "execution_count": null,
   "metadata": {},
   "outputs": [],
   "source": []
  }
 ],
 "metadata": {
  "kernelspec": {
   "display_name": "Python 3",
   "language": "python",
   "name": "python3"
  },
  "language_info": {
   "codemirror_mode": {
    "name": "ipython",
    "version": 3
   },
   "file_extension": ".py",
   "mimetype": "text/x-python",
   "name": "python",
   "nbconvert_exporter": "python",
   "pygments_lexer": "ipython3",
   "version": "3.7.4"
  }
 },
 "nbformat": 4,
 "nbformat_minor": 4
}
