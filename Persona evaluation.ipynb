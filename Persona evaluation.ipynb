{
 "cells": [
  {
   "cell_type": "markdown",
   "metadata": {},
   "source": [
    "## 1: [Fairness](#fairness)\n",
    "## 2: [Diversity](#diversity)\n",
    "## 3: [Consistency](#consistency)"
   ]
  },
  {
   "cell_type": "code",
   "execution_count": 1,
   "metadata": {
    "ExecuteTime": {
     "end_time": "2020-06-14T12:15:21.148861Z",
     "start_time": "2020-06-14T12:15:20.367854Z"
    }
   },
   "outputs": [],
   "source": [
    "import pandas as pd\n",
    "import numpy as np\n",
    "import locale\n",
    "locale.setlocale(locale.LC_ALL, 'en_US')\n",
    "from collections import Counter\n",
    "import matplotlib.pyplot as plt\n",
    "import string\n",
    "import random"
   ]
  },
  {
   "cell_type": "code",
   "execution_count": 2,
   "metadata": {
    "ExecuteTime": {
     "end_time": "2020-06-14T12:15:27.097052Z",
     "start_time": "2020-06-14T12:15:21.150852Z"
    }
   },
   "outputs": [],
   "source": [
    "df = pd.read_csv('Data.csv')\n",
    "\n",
    "#Get total views\n",
    "videoKeys = list(df.columns)\n",
    "videoKeys.remove(\"Unnamed: 0\")\n",
    "df['sumVideoViews'] = df[videoKeys].sum(axis=1)"
   ]
  },
  {
   "cell_type": "code",
   "execution_count": 3,
   "metadata": {
    "ExecuteTime": {
     "end_time": "2020-06-14T12:15:27.438054Z",
     "start_time": "2020-06-14T12:15:27.098053Z"
    }
   },
   "outputs": [],
   "source": [
    "#Extract Country,Age and Gender\n",
    "df['country'] = df['Unnamed: 0'].str.split(\"_\",expand=True)[0]\n",
    "df['age'] = df['Unnamed: 0'].str.split(\"_\",expand=True)[1]\n",
    "df['gender'] = df['Unnamed: 0'].str.split(\"_\",expand=True)[2]\n",
    "\n",
    "df = df.drop('Unnamed: 0',axis=1)"
   ]
  },
  {
   "cell_type": "code",
   "execution_count": 4,
   "metadata": {
    "ExecuteTime": {
     "end_time": "2020-06-14T12:15:27.577053Z",
     "start_time": "2020-06-14T12:15:27.439053Z"
    }
   },
   "outputs": [
    {
     "name": "stdout",
     "output_type": "stream",
     "text": [
      "Total Views 1581079336\n"
     ]
    }
   ],
   "source": [
    "print(\"Total Views\",df[videoKeys].sum(axis=0).sum())"
   ]
  },
  {
   "cell_type": "code",
   "execution_count": 5,
   "metadata": {
    "ExecuteTime": {
     "end_time": "2020-06-14T12:15:27.583053Z",
     "start_time": "2020-06-14T12:15:27.578052Z"
    }
   },
   "outputs": [],
   "source": [
    "df.loc[df.age==\"65-\",'age'] = \"65+\" #Minor Fix"
   ]
  },
  {
   "cell_type": "code",
   "execution_count": 6,
   "metadata": {
    "ExecuteTime": {
     "end_time": "2020-06-14T12:15:27.595054Z",
     "start_time": "2020-06-14T12:15:27.584054Z"
    }
   },
   "outputs": [
    {
     "data": {
      "text/plain": [
       "age\n",
       "25-34    379308837\n",
       "35-44    266945329\n",
       "18-24    251841056\n",
       "45-54    225989220\n",
       "55-64    177114047\n",
       "65+      156130826\n",
       "13-17    123750021\n",
       "Name: sumVideoViews, dtype: int64"
      ]
     },
     "execution_count": 6,
     "metadata": {},
     "output_type": "execute_result"
    }
   ],
   "source": [
    "df.groupby(\"age\")[\"sumVideoViews\"].sum().sort_values(ascending=False)"
   ]
  },
  {
   "cell_type": "code",
   "execution_count": 7,
   "metadata": {
    "ExecuteTime": {
     "end_time": "2020-06-14T12:15:27.606053Z",
     "start_time": "2020-06-14T12:15:27.598054Z"
    }
   },
   "outputs": [
    {
     "data": {
      "text/plain": [
       "country\n",
       "US    114584035\n",
       "IN     56850635\n",
       "GB     38824159\n",
       "CA     32873633\n",
       "MY     21705597\n",
       "PK     20176644\n",
       "AU     19427786\n",
       "PH     18552997\n",
       "DE     16990377\n",
       "ZA     16731074\n",
       "Name: sumVideoViews, dtype: int64"
      ]
     },
     "execution_count": 7,
     "metadata": {},
     "output_type": "execute_result"
    }
   ],
   "source": [
    "#Top 10 countries by view\n",
    "df.groupby(\"country\")[\"sumVideoViews\"].sum().sort_values(ascending=False)[:10]"
   ]
  },
  {
   "cell_type": "code",
   "execution_count": 8,
   "metadata": {
    "ExecuteTime": {
     "end_time": "2020-06-14T12:15:27.612053Z",
     "start_time": "2020-06-14T12:15:27.608055Z"
    }
   },
   "outputs": [],
   "source": [
    "dralgos = [\"Clustering\",\"PCA\",\"NMF\",\"LDA\",\"SE\",\"UMAP\"]"
   ]
  },
  {
   "cell_type": "code",
   "execution_count": 9,
   "metadata": {
    "ExecuteTime": {
     "end_time": "2020-06-14T12:15:27.623053Z",
     "start_time": "2020-06-14T12:15:27.613054Z"
    }
   },
   "outputs": [],
   "source": [
    "def fixAge(temp): #Change Age Format\n",
    "    for i in range(temp.iloc[1,1:].shape[0]):\n",
    "        if int(temp.iloc[1,1+i]) <= 17:\n",
    "            temp.iloc[1,1+i] = \"13-17\"\n",
    "        elif int(temp.iloc[1,1+i]) > 17 and int(temp.iloc[1,1+i]) <= 24:\n",
    "            temp.iloc[1,1+i] = \"18-24\"\n",
    "        elif int(temp.iloc[1,1+i]) > 24 and int(temp.iloc[1,1+i]) <= 34:\n",
    "            temp.iloc[1,1+i] = \"25-34\"\n",
    "        elif int(temp.iloc[1,1+i]) > 34 and int(temp.iloc[1,1+i]) <= 44:\n",
    "            temp.iloc[1,1+i] = \"35-44\"\n",
    "        elif int(temp.iloc[1,1+i]) > 44 and int(temp.iloc[1,1+i]) <= 54:\n",
    "            temp.iloc[1,1+i] = \"45-54\"\n",
    "        elif int(temp.iloc[1,1+i]) > 54 and int(temp.iloc[1,1+i]) <= 64:\n",
    "            temp.iloc[1,1+i] = \"55-64\"\n",
    "        elif int(temp.iloc[1,1+i]) > 64:\n",
    "            temp.iloc[1,1+i] = \"65+\"\n",
    "\n",
    "    return temp"
   ]
  },
  {
   "cell_type": "code",
   "execution_count": 10,
   "metadata": {
    "ExecuteTime": {
     "end_time": "2020-06-14T12:15:27.630054Z",
     "start_time": "2020-06-14T12:15:27.625054Z"
    }
   },
   "outputs": [
    {
     "data": {
      "text/plain": [
       "185"
      ]
     },
     "execution_count": 10,
     "metadata": {},
     "output_type": "execute_result"
    }
   ],
   "source": [
    "df[\"country\"].nunique()"
   ]
  },
  {
   "cell_type": "code",
   "execution_count": 11,
   "metadata": {
    "ExecuteTime": {
     "end_time": "2020-06-14T12:15:28.833566Z",
     "start_time": "2020-06-14T12:15:27.632053Z"
    }
   },
   "outputs": [
    {
     "name": "stderr",
     "output_type": "stream",
     "text": [
      "C:\\Anaconda3\\lib\\site-packages\\pandas\\core\\indexing.py:205: SettingWithCopyWarning: \n",
      "A value is trying to be set on a copy of a slice from a DataFrame\n",
      "\n",
      "See the caveats in the documentation: http://pandas.pydata.org/pandas-docs/stable/user_guide/indexing.html#returning-a-view-versus-a-copy\n",
      "  self._setitem_with_indexer(indexer, value)\n"
     ]
    }
   ],
   "source": [
    "ccdf = pd.read_csv(\"CountryCode.csv\") #Read country code DF\n",
    "for i in range(df.shape[0]): #Change Country codes to full country names\n",
    "    if df[\"country\"].iloc[i] == \"NA\": #Pandas converted \"NA\" to \"null\", when we read the above csv file. So just fixing that.\n",
    "        df[\"country\"].iloc[i] = \"Namibia\"\n",
    "    else:\n",
    "        df[\"country\"].iloc[i] = ccdf.loc[ccdf[\"Code\"]==df[\"country\"].iloc[i],'Name'].iloc[0]"
   ]
  },
  {
   "cell_type": "code",
   "execution_count": 12,
   "metadata": {
    "ExecuteTime": {
     "end_time": "2020-06-14T12:15:28.838566Z",
     "start_time": "2020-06-14T12:15:28.834565Z"
    }
   },
   "outputs": [
    {
     "data": {
      "text/plain": [
       "185"
      ]
     },
     "execution_count": 12,
     "metadata": {},
     "output_type": "execute_result"
    }
   ],
   "source": [
    "df[\"country\"].nunique()"
   ]
  },
  {
   "cell_type": "markdown",
   "metadata": {},
   "source": [
    "# <a id=\"fairness\">Fairness</a>"
   ]
  },
  {
   "cell_type": "markdown",
   "metadata": {},
   "source": [
    "Calculating Fairness for age, gender and country."
   ]
  },
  {
   "cell_type": "code",
   "execution_count": 13,
   "metadata": {
    "ExecuteTime": {
     "end_time": "2020-06-14T12:15:28.849592Z",
     "start_time": "2020-06-14T12:15:28.839608Z"
    }
   },
   "outputs": [],
   "source": [
    "totalViews = df[\"sumVideoViews\"].sum()\n",
    "\n",
    "#Create a CSV file to store the results\n",
    "outputDF = pd.DataFrame(columns=[\"Dimensionality Reduction Algorithm\",\"Number of Personas\",\"GroupName\",\"Subject\",\"Percentage in Original Data\",\"Unique Values in Original Data\",\"Count in Persona Set\",\"Percentage in Persona set\",\"Total Unique Values in Persona Set\",\"Statistical Parity\"])"
   ]
  },
  {
   "cell_type": "code",
   "execution_count": 14,
   "metadata": {
    "ExecuteTime": {
     "end_time": "2020-06-14T12:15:29.071770Z",
     "start_time": "2020-06-14T12:15:28.850592Z"
    }
   },
   "outputs": [],
   "source": [
    "#Append all personas in a list\n",
    "dfs = []\n",
    "for dralgo in dralgos:\n",
    "    for i in range(3):\n",
    "        temp = pd.read_excel(\"personas/\"+dralgo+\".xlsx\",sheet_name=2-i)\n",
    "        temp = fixAge(temp)\n",
    "        dfs.append([temp,temp.shape[1]-1,dralgo])"
   ]
  },
  {
   "cell_type": "code",
   "execution_count": 15,
   "metadata": {
    "ExecuteTime": {
     "end_time": "2020-06-14T12:15:29.211776Z",
     "start_time": "2020-06-14T12:15:29.072594Z"
    }
   },
   "outputs": [],
   "source": [
    "#Calculate fairness for gender\n",
    "totalMale = df.loc[df[\"gender\"]==\"male\"].groupby(\"gender\")[\"sumVideoViews\"].sum().values[0]\n",
    "for cdf in dfs:\n",
    "    cTotal = (cdf[0].iloc[2,1:].values==\"male\").sum()\n",
    "    outputDF = outputDF.append(pd.DataFrame([[cdf[2],cdf[1],\"Gender\",\"Male\",np.round(totalMale/totalViews*100,3),df[\"gender\"].nunique(),cTotal,np.round(cTotal/cdf[1]*100,3),cdf[0].iloc[2,1:].nunique(),np.round(cTotal/cdf[1]-totalMale/totalViews,3)]], columns=outputDF.columns))\n"
   ]
  },
  {
   "cell_type": "code",
   "execution_count": 16,
   "metadata": {
    "ExecuteTime": {
     "end_time": "2020-06-14T12:15:29.916605Z",
     "start_time": "2020-06-14T12:15:29.212594Z"
    }
   },
   "outputs": [],
   "source": [
    "#Calculate fairness for Age\n",
    "    \n",
    "for age in [\"25-34\",\"35-44\",\"18-24\",\"45-54\",\"55-64\",\"65+\",\"13-17\"]:\n",
    "    totalAge = df.loc[df[\"age\"]==age].groupby(\"age\")[\"sumVideoViews\"].sum().values[0]\n",
    "    for cdf in dfs:\n",
    "        cTotal = (cdf[0].iloc[1,1:].values==age).sum()\n",
    "        outputDF = outputDF.append(pd.DataFrame([[cdf[2],cdf[1],\"Age\",age,np.round(totalAge/totalViews*100,3),df[\"age\"].nunique(),cTotal,np.round(cTotal/cdf[1]*100,3),cdf[0].iloc[1,1:].nunique(),np.round(cTotal/cdf[1]-totalAge/totalViews,3)]], columns=outputDF.columns))\n"
   ]
  },
  {
   "cell_type": "code",
   "execution_count": 17,
   "metadata": {
    "ExecuteTime": {
     "end_time": "2020-06-14T12:15:46.582212Z",
     "start_time": "2020-06-14T12:15:29.917591Z"
    }
   },
   "outputs": [],
   "source": [
    "#Calculate fairness for Country\n",
    "\n",
    "df = df.loc[~df[\"country\"].isnull()]\n",
    "\n",
    "for country in df.country.unique().tolist():\n",
    "\n",
    "    totalCountry = df.loc[df[\"country\"]==country].groupby(\"country\")[\"sumVideoViews\"].sum().values[0]\n",
    "    for cdf in dfs:\n",
    "        cTotal = (cdf[0].iloc[3,1:].values==country).sum()\n",
    "        outputDF = outputDF.append(pd.DataFrame([[cdf[2],cdf[1],\"Country\",country,np.round(totalCountry/totalViews*100,3),df[\"country\"].nunique(),cTotal,np.round(cTotal/cdf[1]*100,3),cdf[0].iloc[3,1:].nunique(),np.round(cTotal/cdf[1]-totalCountry/totalViews,3)]], columns=outputDF.columns))\n"
   ]
  },
  {
   "cell_type": "code",
   "execution_count": 18,
   "metadata": {
    "ExecuteTime": {
     "end_time": "2020-06-14T12:15:46.588166Z",
     "start_time": "2020-06-14T12:15:46.583164Z"
    }
   },
   "outputs": [],
   "source": [
    "outputDF['Statistical Parity_Positive'] = np.abs(outputDF['Statistical Parity'])"
   ]
  },
  {
   "cell_type": "code",
   "execution_count": 19,
   "metadata": {
    "ExecuteTime": {
     "end_time": "2020-06-14T12:15:46.622165Z",
     "start_time": "2020-06-14T12:15:46.590165Z"
    }
   },
   "outputs": [],
   "source": [
    "outputDF.to_csv(\"stat_parity.csv\",index=False)"
   ]
  },
  {
   "cell_type": "code",
   "execution_count": 20,
   "metadata": {
    "ExecuteTime": {
     "end_time": "2020-06-14T12:15:46.635163Z",
     "start_time": "2020-06-14T12:15:46.623165Z"
    }
   },
   "outputs": [],
   "source": [
    "#Save country fairness data\n",
    "outputDF.loc[outputDF[\"GroupName\"]==\"Country\"].groupby(['Dimensionality Reduction Algorithm','GroupName','Number of Personas'])['Statistical Parity_Positive'].mean().to_csv('Country_Stat_Parity_Mean.csv',header=True)"
   ]
  },
  {
   "cell_type": "code",
   "execution_count": 21,
   "metadata": {
    "ExecuteTime": {
     "end_time": "2020-06-14T12:15:46.648164Z",
     "start_time": "2020-06-14T12:15:46.636164Z"
    }
   },
   "outputs": [],
   "source": [
    "#Save Age fairness data\n",
    "outputDF.loc[outputDF[\"GroupName\"]==\"Age\"].groupby(['Dimensionality Reduction Algorithm','GroupName','Number of Personas'])['Statistical Parity_Positive'].mean().to_csv('Age_Stat_Parity_Mean.csv',header=True)"
   ]
  },
  {
   "cell_type": "code",
   "execution_count": 22,
   "metadata": {
    "ExecuteTime": {
     "end_time": "2020-06-14T12:15:46.661164Z",
     "start_time": "2020-06-14T12:15:46.651167Z"
    }
   },
   "outputs": [],
   "source": [
    "#Save Gender fairness data\n",
    "outputDF.loc[outputDF[\"GroupName\"]==\"Gender\"].groupby(['Dimensionality Reduction Algorithm','GroupName','Number of Personas'])['Statistical Parity_Positive'].mean().to_csv('Gender_Stat_Parity_Mean.csv',header=True)"
   ]
  },
  {
   "cell_type": "markdown",
   "metadata": {},
   "source": [
    "# <a id=\"diversity\">Diversity</a>"
   ]
  },
  {
   "cell_type": "code",
   "execution_count": 23,
   "metadata": {
    "ExecuteTime": {
     "end_time": "2020-06-14T12:15:46.674164Z",
     "start_time": "2020-06-14T12:15:46.663165Z"
    },
    "scrolled": true
   },
   "outputs": [],
   "source": [
    "diversitydf = outputDF.groupby([\"Dimensionality Reduction Algorithm\",\"Number of Personas\",\"GroupName\"], as_index=False)[\"Total Unique Values in Persona Set\"].first()"
   ]
  },
  {
   "cell_type": "code",
   "execution_count": 24,
   "metadata": {
    "ExecuteTime": {
     "end_time": "2020-06-14T12:15:46.697164Z",
     "start_time": "2020-06-14T12:15:46.680166Z"
    }
   },
   "outputs": [],
   "source": [
    "diversitydf[\"persona_group\"] = \"coverage\"+\"_\"+diversitydf[\"GroupName\"] + \"_\" + diversitydf[\"Number of Personas\"].astype(str)\n",
    "diversitydf = diversitydf.drop([\"Number of Personas\",\"GroupName\"],axis=1)"
   ]
  },
  {
   "cell_type": "code",
   "execution_count": 25,
   "metadata": {
    "ExecuteTime": {
     "end_time": "2020-06-14T12:15:46.705166Z",
     "start_time": "2020-06-14T12:15:46.698164Z"
    },
    "scrolled": true
   },
   "outputs": [],
   "source": [
    "diversitydf = diversitydf.pivot(index='persona_group', columns='Dimensionality Reduction Algorithm', values='Total Unique Values in Persona Set')"
   ]
  },
  {
   "cell_type": "code",
   "execution_count": 26,
   "metadata": {
    "ExecuteTime": {
     "end_time": "2020-06-14T12:15:46.722164Z",
     "start_time": "2020-06-14T12:15:46.708165Z"
    }
   },
   "outputs": [
    {
     "data": {
      "text/html": [
       "<div>\n",
       "<style scoped>\n",
       "    .dataframe tbody tr th:only-of-type {\n",
       "        vertical-align: middle;\n",
       "    }\n",
       "\n",
       "    .dataframe tbody tr th {\n",
       "        vertical-align: top;\n",
       "    }\n",
       "\n",
       "    .dataframe thead th {\n",
       "        text-align: right;\n",
       "    }\n",
       "</style>\n",
       "<table border=\"1\" class=\"dataframe\">\n",
       "  <thead>\n",
       "    <tr style=\"text-align: right;\">\n",
       "      <th></th>\n",
       "      <th>persona_group</th>\n",
       "      <th>Clustering</th>\n",
       "      <th>LDA</th>\n",
       "      <th>NMF</th>\n",
       "      <th>PCA</th>\n",
       "      <th>SE</th>\n",
       "      <th>UMAP</th>\n",
       "    </tr>\n",
       "  </thead>\n",
       "  <tbody>\n",
       "    <tr>\n",
       "      <th>0</th>\n",
       "      <td>coverage_Age_10</td>\n",
       "      <td>5</td>\n",
       "      <td>4</td>\n",
       "      <td>4</td>\n",
       "      <td>3</td>\n",
       "      <td>6</td>\n",
       "      <td>3</td>\n",
       "    </tr>\n",
       "    <tr>\n",
       "      <th>1</th>\n",
       "      <td>coverage_Age_15</td>\n",
       "      <td>5</td>\n",
       "      <td>6</td>\n",
       "      <td>7</td>\n",
       "      <td>3</td>\n",
       "      <td>6</td>\n",
       "      <td>6</td>\n",
       "    </tr>\n",
       "    <tr>\n",
       "      <th>2</th>\n",
       "      <td>coverage_Age_5</td>\n",
       "      <td>3</td>\n",
       "      <td>3</td>\n",
       "      <td>3</td>\n",
       "      <td>3</td>\n",
       "      <td>5</td>\n",
       "      <td>4</td>\n",
       "    </tr>\n",
       "    <tr>\n",
       "      <th>3</th>\n",
       "      <td>coverage_Country_10</td>\n",
       "      <td>3</td>\n",
       "      <td>6</td>\n",
       "      <td>3</td>\n",
       "      <td>8</td>\n",
       "      <td>7</td>\n",
       "      <td>6</td>\n",
       "    </tr>\n",
       "    <tr>\n",
       "      <th>4</th>\n",
       "      <td>coverage_Country_15</td>\n",
       "      <td>4</td>\n",
       "      <td>9</td>\n",
       "      <td>15</td>\n",
       "      <td>5</td>\n",
       "      <td>10</td>\n",
       "      <td>10</td>\n",
       "    </tr>\n",
       "    <tr>\n",
       "      <th>5</th>\n",
       "      <td>coverage_Country_5</td>\n",
       "      <td>1</td>\n",
       "      <td>3</td>\n",
       "      <td>2</td>\n",
       "      <td>2</td>\n",
       "      <td>2</td>\n",
       "      <td>3</td>\n",
       "    </tr>\n",
       "    <tr>\n",
       "      <th>6</th>\n",
       "      <td>coverage_Gender_10</td>\n",
       "      <td>2</td>\n",
       "      <td>2</td>\n",
       "      <td>2</td>\n",
       "      <td>2</td>\n",
       "      <td>2</td>\n",
       "      <td>2</td>\n",
       "    </tr>\n",
       "    <tr>\n",
       "      <th>7</th>\n",
       "      <td>coverage_Gender_15</td>\n",
       "      <td>2</td>\n",
       "      <td>2</td>\n",
       "      <td>2</td>\n",
       "      <td>1</td>\n",
       "      <td>2</td>\n",
       "      <td>2</td>\n",
       "    </tr>\n",
       "    <tr>\n",
       "      <th>8</th>\n",
       "      <td>coverage_Gender_5</td>\n",
       "      <td>2</td>\n",
       "      <td>2</td>\n",
       "      <td>2</td>\n",
       "      <td>2</td>\n",
       "      <td>2</td>\n",
       "      <td>2</td>\n",
       "    </tr>\n",
       "  </tbody>\n",
       "</table>\n",
       "</div>"
      ],
      "text/plain": [
       "         persona_group  Clustering  LDA  NMF  PCA  SE  UMAP\n",
       "0      coverage_Age_10           5    4    4    3   6     3\n",
       "1      coverage_Age_15           5    6    7    3   6     6\n",
       "2       coverage_Age_5           3    3    3    3   5     4\n",
       "3  coverage_Country_10           3    6    3    8   7     6\n",
       "4  coverage_Country_15           4    9   15    5  10    10\n",
       "5   coverage_Country_5           1    3    2    2   2     3\n",
       "6   coverage_Gender_10           2    2    2    2   2     2\n",
       "7   coverage_Gender_15           2    2    2    1   2     2\n",
       "8    coverage_Gender_5           2    2    2    2   2     2"
      ]
     },
     "execution_count": 26,
     "metadata": {},
     "output_type": "execute_result"
    }
   ],
   "source": [
    "diversitydf = diversitydf.reset_index().rename_axis(None, axis=1)\n",
    "diversitydf"
   ]
  },
  {
   "cell_type": "code",
   "execution_count": 27,
   "metadata": {
    "ExecuteTime": {
     "end_time": "2020-06-14T12:15:46.729165Z",
     "start_time": "2020-06-14T12:15:46.724164Z"
    }
   },
   "outputs": [],
   "source": [
    "uniqueValues = outputDF.groupby([\"GroupName\"])[\"Unique Values in Original Data\"].first()"
   ]
  },
  {
   "cell_type": "code",
   "execution_count": 28,
   "metadata": {
    "ExecuteTime": {
     "end_time": "2020-06-14T12:15:46.789164Z",
     "start_time": "2020-06-14T12:15:46.730165Z"
    },
    "scrolled": true
   },
   "outputs": [],
   "source": [
    "for group in [\"Age\",\"Country\",\"Gender\"]:\n",
    "    for numPersonas in [5,10,15]:\n",
    "        persona_group = \"coverage_\"+group+\"_\"+str(numPersonas)\n",
    "        diversitydf = diversitydf.append(pd.DataFrame([[persona_group,\"\",\"\",\"\",\"\",\"\",\"\"]], columns=diversitydf.columns))\n",
    "        for algorithm in diversitydf.columns[1:]:\n",
    "            uniqueNumInPersona = int(diversitydf.loc[diversitydf[\"persona_group\"]==persona_group,algorithm].iloc[0])\n",
    "            uniqueNumInData = uniqueValues[group]\n",
    "            diversitydf[algorithm].iloc[diversitydf.shape[0]-1] = uniqueNumInPersona/uniqueNumInData*100"
   ]
  },
  {
   "cell_type": "code",
   "execution_count": 29,
   "metadata": {
    "ExecuteTime": {
     "end_time": "2020-06-14T12:15:46.804166Z",
     "start_time": "2020-06-14T12:15:46.791166Z"
    },
    "scrolled": true
   },
   "outputs": [
    {
     "data": {
      "text/html": [
       "<div>\n",
       "<style scoped>\n",
       "    .dataframe tbody tr th:only-of-type {\n",
       "        vertical-align: middle;\n",
       "    }\n",
       "\n",
       "    .dataframe tbody tr th {\n",
       "        vertical-align: top;\n",
       "    }\n",
       "\n",
       "    .dataframe thead th {\n",
       "        text-align: right;\n",
       "    }\n",
       "</style>\n",
       "<table border=\"1\" class=\"dataframe\">\n",
       "  <thead>\n",
       "    <tr style=\"text-align: right;\">\n",
       "      <th></th>\n",
       "      <th>persona_group</th>\n",
       "      <th>Clustering</th>\n",
       "      <th>LDA</th>\n",
       "      <th>NMF</th>\n",
       "      <th>PCA</th>\n",
       "      <th>SE</th>\n",
       "      <th>UMAP</th>\n",
       "    </tr>\n",
       "  </thead>\n",
       "  <tbody>\n",
       "    <tr>\n",
       "      <th>0</th>\n",
       "      <td>coverage_Age_10</td>\n",
       "      <td>5</td>\n",
       "      <td>4</td>\n",
       "      <td>4</td>\n",
       "      <td>3</td>\n",
       "      <td>6</td>\n",
       "      <td>3</td>\n",
       "    </tr>\n",
       "    <tr>\n",
       "      <th>1</th>\n",
       "      <td>coverage_Age_15</td>\n",
       "      <td>5</td>\n",
       "      <td>6</td>\n",
       "      <td>7</td>\n",
       "      <td>3</td>\n",
       "      <td>6</td>\n",
       "      <td>6</td>\n",
       "    </tr>\n",
       "    <tr>\n",
       "      <th>2</th>\n",
       "      <td>coverage_Age_5</td>\n",
       "      <td>3</td>\n",
       "      <td>3</td>\n",
       "      <td>3</td>\n",
       "      <td>3</td>\n",
       "      <td>5</td>\n",
       "      <td>4</td>\n",
       "    </tr>\n",
       "    <tr>\n",
       "      <th>3</th>\n",
       "      <td>coverage_Country_10</td>\n",
       "      <td>3</td>\n",
       "      <td>6</td>\n",
       "      <td>3</td>\n",
       "      <td>8</td>\n",
       "      <td>7</td>\n",
       "      <td>6</td>\n",
       "    </tr>\n",
       "    <tr>\n",
       "      <th>4</th>\n",
       "      <td>coverage_Country_15</td>\n",
       "      <td>4</td>\n",
       "      <td>9</td>\n",
       "      <td>15</td>\n",
       "      <td>5</td>\n",
       "      <td>10</td>\n",
       "      <td>10</td>\n",
       "    </tr>\n",
       "    <tr>\n",
       "      <th>5</th>\n",
       "      <td>coverage_Country_5</td>\n",
       "      <td>1</td>\n",
       "      <td>3</td>\n",
       "      <td>2</td>\n",
       "      <td>2</td>\n",
       "      <td>2</td>\n",
       "      <td>3</td>\n",
       "    </tr>\n",
       "    <tr>\n",
       "      <th>6</th>\n",
       "      <td>coverage_Gender_10</td>\n",
       "      <td>2</td>\n",
       "      <td>2</td>\n",
       "      <td>2</td>\n",
       "      <td>2</td>\n",
       "      <td>2</td>\n",
       "      <td>2</td>\n",
       "    </tr>\n",
       "    <tr>\n",
       "      <th>7</th>\n",
       "      <td>coverage_Gender_15</td>\n",
       "      <td>2</td>\n",
       "      <td>2</td>\n",
       "      <td>2</td>\n",
       "      <td>1</td>\n",
       "      <td>2</td>\n",
       "      <td>2</td>\n",
       "    </tr>\n",
       "    <tr>\n",
       "      <th>8</th>\n",
       "      <td>coverage_Gender_5</td>\n",
       "      <td>2</td>\n",
       "      <td>2</td>\n",
       "      <td>2</td>\n",
       "      <td>2</td>\n",
       "      <td>2</td>\n",
       "      <td>2</td>\n",
       "    </tr>\n",
       "    <tr>\n",
       "      <th>0</th>\n",
       "      <td>coverage_Age_5</td>\n",
       "      <td>42.8571</td>\n",
       "      <td>42.8571</td>\n",
       "      <td>42.8571</td>\n",
       "      <td>42.8571</td>\n",
       "      <td>71.4286</td>\n",
       "      <td>57.1429</td>\n",
       "    </tr>\n",
       "    <tr>\n",
       "      <th>0</th>\n",
       "      <td>coverage_Age_10</td>\n",
       "      <td>71.4286</td>\n",
       "      <td>57.1429</td>\n",
       "      <td>57.1429</td>\n",
       "      <td>42.8571</td>\n",
       "      <td>85.7143</td>\n",
       "      <td>42.8571</td>\n",
       "    </tr>\n",
       "    <tr>\n",
       "      <th>0</th>\n",
       "      <td>coverage_Age_15</td>\n",
       "      <td>71.4286</td>\n",
       "      <td>85.7143</td>\n",
       "      <td>100</td>\n",
       "      <td>42.8571</td>\n",
       "      <td>85.7143</td>\n",
       "      <td>85.7143</td>\n",
       "    </tr>\n",
       "    <tr>\n",
       "      <th>0</th>\n",
       "      <td>coverage_Country_5</td>\n",
       "      <td>0.540541</td>\n",
       "      <td>1.62162</td>\n",
       "      <td>1.08108</td>\n",
       "      <td>1.08108</td>\n",
       "      <td>1.08108</td>\n",
       "      <td>1.62162</td>\n",
       "    </tr>\n",
       "    <tr>\n",
       "      <th>0</th>\n",
       "      <td>coverage_Country_10</td>\n",
       "      <td>1.62162</td>\n",
       "      <td>3.24324</td>\n",
       "      <td>1.62162</td>\n",
       "      <td>4.32432</td>\n",
       "      <td>3.78378</td>\n",
       "      <td>3.24324</td>\n",
       "    </tr>\n",
       "    <tr>\n",
       "      <th>0</th>\n",
       "      <td>coverage_Country_15</td>\n",
       "      <td>2.16216</td>\n",
       "      <td>4.86486</td>\n",
       "      <td>8.10811</td>\n",
       "      <td>2.7027</td>\n",
       "      <td>5.40541</td>\n",
       "      <td>5.40541</td>\n",
       "    </tr>\n",
       "    <tr>\n",
       "      <th>0</th>\n",
       "      <td>coverage_Gender_5</td>\n",
       "      <td>100</td>\n",
       "      <td>100</td>\n",
       "      <td>100</td>\n",
       "      <td>100</td>\n",
       "      <td>100</td>\n",
       "      <td>100</td>\n",
       "    </tr>\n",
       "    <tr>\n",
       "      <th>0</th>\n",
       "      <td>coverage_Gender_10</td>\n",
       "      <td>100</td>\n",
       "      <td>100</td>\n",
       "      <td>100</td>\n",
       "      <td>100</td>\n",
       "      <td>100</td>\n",
       "      <td>100</td>\n",
       "    </tr>\n",
       "    <tr>\n",
       "      <th>0</th>\n",
       "      <td>coverage_Gender_15</td>\n",
       "      <td>100</td>\n",
       "      <td>100</td>\n",
       "      <td>100</td>\n",
       "      <td>50</td>\n",
       "      <td>100</td>\n",
       "      <td>100</td>\n",
       "    </tr>\n",
       "  </tbody>\n",
       "</table>\n",
       "</div>"
      ],
      "text/plain": [
       "         persona_group Clustering      LDA      NMF      PCA       SE     UMAP\n",
       "0      coverage_Age_10          5        4        4        3        6        3\n",
       "1      coverage_Age_15          5        6        7        3        6        6\n",
       "2       coverage_Age_5          3        3        3        3        5        4\n",
       "3  coverage_Country_10          3        6        3        8        7        6\n",
       "4  coverage_Country_15          4        9       15        5       10       10\n",
       "5   coverage_Country_5          1        3        2        2        2        3\n",
       "6   coverage_Gender_10          2        2        2        2        2        2\n",
       "7   coverage_Gender_15          2        2        2        1        2        2\n",
       "8    coverage_Gender_5          2        2        2        2        2        2\n",
       "0       coverage_Age_5    42.8571  42.8571  42.8571  42.8571  71.4286  57.1429\n",
       "0      coverage_Age_10    71.4286  57.1429  57.1429  42.8571  85.7143  42.8571\n",
       "0      coverage_Age_15    71.4286  85.7143      100  42.8571  85.7143  85.7143\n",
       "0   coverage_Country_5   0.540541  1.62162  1.08108  1.08108  1.08108  1.62162\n",
       "0  coverage_Country_10    1.62162  3.24324  1.62162  4.32432  3.78378  3.24324\n",
       "0  coverage_Country_15    2.16216  4.86486  8.10811   2.7027  5.40541  5.40541\n",
       "0    coverage_Gender_5        100      100      100      100      100      100\n",
       "0   coverage_Gender_10        100      100      100      100      100      100\n",
       "0   coverage_Gender_15        100      100      100       50      100      100"
      ]
     },
     "execution_count": 29,
     "metadata": {},
     "output_type": "execute_result"
    }
   ],
   "source": [
    "diversitydf"
   ]
  },
  {
   "cell_type": "code",
   "execution_count": 30,
   "metadata": {
    "ExecuteTime": {
     "end_time": "2020-06-14T12:15:46.814164Z",
     "start_time": "2020-06-14T12:15:46.806165Z"
    }
   },
   "outputs": [],
   "source": [
    "diversitydf.to_csv(\"diversitydf.csv\",index=False)"
   ]
  },
  {
   "cell_type": "markdown",
   "metadata": {},
   "source": [
    "# <a id=\"consistency\">Consistency</a>"
   ]
  },
  {
   "cell_type": "code",
   "execution_count": 31,
   "metadata": {
    "ExecuteTime": {
     "end_time": "2020-06-14T12:15:46.821167Z",
     "start_time": "2020-06-14T12:15:46.815165Z"
    }
   },
   "outputs": [],
   "source": [
    "consistencyDF = pd.DataFrame(columns=[\"Algorithm\",\"Consistency Score\"])"
   ]
  },
  {
   "cell_type": "code",
   "execution_count": 32,
   "metadata": {
    "ExecuteTime": {
     "end_time": "2020-06-14T12:15:46.829166Z",
     "start_time": "2020-06-14T12:15:46.823167Z"
    }
   },
   "outputs": [],
   "source": [
    "def randomString(stringLength): #Generate a random string\n",
    "    letters = string.ascii_lowercase\n",
    "    return ''.join(random.choice(letters) for i in range(stringLength))\n",
    "\n",
    "def common(lst1, lst2): \n",
    "    #This function finds the count of common values between two lists.\n",
    "    #But we also do not want to use a single value from first list to match two values in the second list.\n",
    "    #Example:\n",
    "    #List1 = [1,1,2,3,4]\n",
    "    #List2 = [1,1,1,2,2,3,4]\n",
    "    #Score = 5. Because Two ones in list1 match two times. One two in list1 match one time. 3 and 4 match 1 time. So total 5 matches\n",
    "    counter = 0\n",
    "    lst11,lst22= lst1.copy(),lst2.copy() #Copy them, so we don't overwrite the original \n",
    "    for i in range(len(lst11)):\n",
    "        for j in range(len(lst22)):\n",
    "            if lst11[i]==lst22[j]:\n",
    "                counter +=1\n",
    "                lst11[i] = randomString(10000) #We don't want to count it again. So we just assign a random value to it.\n",
    "                lst22[j] = randomString(10000)\n",
    "                break\n",
    "    return counter"
   ]
  },
  {
   "cell_type": "code",
   "execution_count": 33,
   "metadata": {
    "ExecuteTime": {
     "end_time": "2020-06-14T12:15:47.200168Z",
     "start_time": "2020-06-14T12:15:46.830165Z"
    }
   },
   "outputs": [],
   "source": [
    "for dralgo in dralgos: #Need to process files of all algorithms\n",
    "    uniqueValues = []\n",
    "    for i in range(3): #Need to read the file 3 times with all 3 sheets. (5,10,15)\n",
    "        temp = pd.read_excel(\"personas/\"+dralgo+\".xlsx\",sheet_name=2-i)\n",
    "        uniqueValues_tmp = []\n",
    "        for i in range(temp.shape[1]-1):\n",
    "            #Join Age, Gender and country. \n",
    "            value = str(temp.iloc[1,1+i:2+i].values[0])+temp.iloc[2,1+i:2+i].values[0]+temp.iloc[3,1+i:2+i].values[0]\n",
    "            uniqueValues_tmp.append(value)\n",
    "        uniqueValues.append(uniqueValues_tmp)\n",
    "      \n",
    "\n",
    "    # Find common between 5 persona set and 10\n",
    "    score = common(uniqueValues[0], uniqueValues[1])/5\n",
    "    # Find common between 5 persona set and 15\n",
    "    score += common(uniqueValues[0], uniqueValues[2])/5\n",
    "    # Find common between 10 persona set and 15\n",
    "    score += common(uniqueValues[1], uniqueValues[2])/10\n",
    "    score = score/3\n",
    "    \n",
    "    consistencyDF = consistencyDF.append(pd.DataFrame([[dralgo,score]], columns=consistencyDF.columns))"
   ]
  },
  {
   "cell_type": "code",
   "execution_count": 34,
   "metadata": {
    "ExecuteTime": {
     "end_time": "2020-06-14T12:15:47.209170Z",
     "start_time": "2020-06-14T12:15:47.201168Z"
    }
   },
   "outputs": [
    {
     "data": {
      "text/html": [
       "<div>\n",
       "<style scoped>\n",
       "    .dataframe tbody tr th:only-of-type {\n",
       "        vertical-align: middle;\n",
       "    }\n",
       "\n",
       "    .dataframe tbody tr th {\n",
       "        vertical-align: top;\n",
       "    }\n",
       "\n",
       "    .dataframe thead th {\n",
       "        text-align: right;\n",
       "    }\n",
       "</style>\n",
       "<table border=\"1\" class=\"dataframe\">\n",
       "  <thead>\n",
       "    <tr style=\"text-align: right;\">\n",
       "      <th></th>\n",
       "      <th>Algorithm</th>\n",
       "      <th>Consistency Score</th>\n",
       "    </tr>\n",
       "  </thead>\n",
       "  <tbody>\n",
       "    <tr>\n",
       "      <th>0</th>\n",
       "      <td>Clustering</td>\n",
       "      <td>0.000000</td>\n",
       "    </tr>\n",
       "    <tr>\n",
       "      <th>0</th>\n",
       "      <td>PCA</td>\n",
       "      <td>0.233333</td>\n",
       "    </tr>\n",
       "    <tr>\n",
       "      <th>0</th>\n",
       "      <td>NMF</td>\n",
       "      <td>0.066667</td>\n",
       "    </tr>\n",
       "    <tr>\n",
       "      <th>0</th>\n",
       "      <td>LDA</td>\n",
       "      <td>0.000000</td>\n",
       "    </tr>\n",
       "    <tr>\n",
       "      <th>0</th>\n",
       "      <td>SE</td>\n",
       "      <td>0.000000</td>\n",
       "    </tr>\n",
       "    <tr>\n",
       "      <th>0</th>\n",
       "      <td>UMAP</td>\n",
       "      <td>0.000000</td>\n",
       "    </tr>\n",
       "  </tbody>\n",
       "</table>\n",
       "</div>"
      ],
      "text/plain": [
       "    Algorithm  Consistency Score\n",
       "0  Clustering           0.000000\n",
       "0         PCA           0.233333\n",
       "0         NMF           0.066667\n",
       "0         LDA           0.000000\n",
       "0          SE           0.000000\n",
       "0        UMAP           0.000000"
      ]
     },
     "execution_count": 34,
     "metadata": {},
     "output_type": "execute_result"
    }
   ],
   "source": [
    "consistencyDF"
   ]
  },
  {
   "cell_type": "code",
   "execution_count": 35,
   "metadata": {
    "ExecuteTime": {
     "end_time": "2020-06-14T12:15:47.218164Z",
     "start_time": "2020-06-14T12:15:47.211168Z"
    }
   },
   "outputs": [],
   "source": [
    "consistencyDF.to_csv(\"consistencyDF.csv\",index=False)"
   ]
  },
  {
   "cell_type": "code",
   "execution_count": null,
   "metadata": {},
   "outputs": [],
   "source": []
  },
  {
   "cell_type": "code",
   "execution_count": null,
   "metadata": {},
   "outputs": [],
   "source": []
  }
 ],
 "metadata": {
  "kernelspec": {
   "display_name": "Python 3",
   "language": "python",
   "name": "python3"
  },
  "language_info": {
   "codemirror_mode": {
    "name": "ipython",
    "version": 3
   },
   "file_extension": ".py",
   "mimetype": "text/x-python",
   "name": "python",
   "nbconvert_exporter": "python",
   "pygments_lexer": "ipython3",
   "version": "3.7.4"
  }
 },
 "nbformat": 4,
 "nbformat_minor": 4
}
